{
 "cells": [
  {
   "cell_type": "markdown",
   "metadata": {
    "application/vnd.databricks.v1+cell": {
     "cellMetadata": {
      "byteLimit": 2048000,
      "rowLimit": 10000
     },
     "inputWidgets": {},
     "nuid": "8e814f90-0da6-414a-bdd7-b1391510d053",
     "showTitle": false,
     "tableResultSettingsMap": {},
     "title": ""
    }
   },
   "source": [
    "# Laboratorio 8 \n",
    "    - Francis Aguilar - 22243\n",
    "    - César López - 22535\n",
    "    - Angela García -22869 \n",
    "\n",
    "\n",
    "enlace al repositorio: https://github.com/angelargd8/lab8-ds\n"
   ]
  },
  {
   "cell_type": "code",
   "execution_count": 0,
   "metadata": {
    "application/vnd.databricks.v1+cell": {
     "cellMetadata": {
      "byteLimit": 2048000,
      "rowLimit": 10000
     },
     "inputWidgets": {},
     "nuid": "df4acaf7-636c-48c8-8a34-55bcc38e37ea",
     "showTitle": false,
     "tableResultSettingsMap": {},
     "title": ""
    }
   },
   "outputs": [],
   "source": [
    "\n",
    "# Cargar el archivos\n",
    "# /Volumes/workspace/default/data_lab8/data lab8/fallecidos/2013 vehiculos involucrados.xlsx\n",
    "path_fallecidos = \"/Volumes/workspace/default/data_lab8/data lab8/fallecidos/\"\n",
    "path_hechos = \"/Volumes/workspace/default/data_lab8/data lab8/hechos y transito/\"\n",
    "path_vehiculos = \"/Volumes/workspace/default/data_lab8/data lab8/vehiculos involucrados/\""
   ]
  },
  {
   "cell_type": "code",
   "execution_count": 0,
   "metadata": {
    "application/vnd.databricks.v1+cell": {
     "cellMetadata": {
      "byteLimit": 2048000,
      "rowLimit": 10000
     },
     "inputWidgets": {},
     "nuid": "43c60769-85e5-40ea-8c84-1b8e299abc7d",
     "showTitle": false,
     "tableResultSettingsMap": {},
     "title": ""
    }
   },
   "outputs": [],
   "source": [
    "# %pip install openpyxl\n",
    "# %pip install unidecode"
   ]
  },
  {
   "cell_type": "markdown",
   "metadata": {
    "application/vnd.databricks.v1+cell": {
     "cellMetadata": {
      "byteLimit": 2048000,
      "rowLimit": 10000
     },
     "inputWidgets": {},
     "nuid": "8352b5da-301b-48b3-af13-c901bb678c16",
     "showTitle": false,
     "tableResultSettingsMap": {},
     "title": ""
    }
   },
   "source": [
    "### Limpieza de datos\n"
   ]
  },
  {
   "cell_type": "code",
   "execution_count": 0,
   "metadata": {
    "application/vnd.databricks.v1+cell": {
     "cellMetadata": {
      "byteLimit": 2048000,
      "rowLimit": 10000
     },
     "inputWidgets": {},
     "nuid": "a5bf506a-2712-4fe5-bf53-b57af94bf152",
     "showTitle": false,
     "tableResultSettingsMap": {},
     "title": ""
    }
   },
   "outputs": [],
   "source": [
    "import pandas as pd\n",
    "import glob\n",
    "import os\n",
    "\n",
    "paths = [path_fallecidos, path_hechos, path_vehiculos]\n",
    "# paths = [path_fallecidos]\n",
    "\n",
    "# convertimos los datos a csv antes de leerlos con spark \n",
    "for path in paths: \n",
    "    for file in glob.glob(os.path.join(path, \"*.xlsx\")):\n",
    "        df = pd.read_excel(file)\n",
    "        csv_path = file.replace(\".xlsx\", \".csv\")\n",
    "        df.to_csv(csv_path, index=False)\n",
    "\n"
   ]
  },
  {
   "cell_type": "code",
   "execution_count": 0,
   "metadata": {
    "application/vnd.databricks.v1+cell": {
     "cellMetadata": {
      "byteLimit": 2048000,
      "rowLimit": 10000
     },
     "inputWidgets": {},
     "nuid": "164fbcf2-5252-4125-81e4-a81e7603de65",
     "showTitle": false,
     "tableResultSettingsMap": {},
     "title": ""
    }
   },
   "outputs": [],
   "source": [
    "\n",
    "# Listar los CSVs en la carpeta\n",
    "files_fallecidos = [f.path for f in dbutils.fs.ls(path_fallecidos) if f.name.endswith(\".csv\")]\n",
    "files_hechos = [f.path for f in dbutils.fs.ls(path_hechos) if f.name.endswith(\".csv\")]\n",
    "files_vehiculos = [f.path for f in dbutils.fs.ls(path_vehiculos) if f.name.endswith(\".csv\")]\n",
    "\n",
    "\n",
    "def mostrar_columnas(files):\n",
    "    columnas_unicas = set()\n",
    "\n",
    "    for file in files:\n",
    "        try:\n",
    "            df = spark.read.option(\"header\", \"true\").csv(file, inferSchema=True)\n",
    "            count = df.count()\n",
    "            print(f\"ARCHIVO: {file}\")\n",
    "            print(f\"   Columnas ({len(df.columns)}): {df.columns}\")\n",
    "            print(f\"   Registros: {count}\")\n",
    "            print(\"-\" * 80)\n",
    "\n",
    "            # Agregar columnas al conjunto (evita duplicados)\n",
    "            columnas_unicas.update(df.columns)\n",
    "\n",
    "        except Exception as e:\n",
    "            print(f\"Error al leer el archivo {file}: {e}\")\n",
    "\n",
    "    # Convertir a lista ordenada alfabéticamente\n",
    "    columnas_ordenadas = sorted(columnas_unicas)\n",
    "    \n",
    "    print(\"\\nLista de todas las columnas únicas (ordenadas alfabéticamente):\")\n",
    "    for col in columnas_ordenadas:\n",
    "        print(f\" - {col}\")\n"
   ]
  },
  {
   "cell_type": "code",
   "execution_count": 0,
   "metadata": {
    "application/vnd.databricks.v1+cell": {
     "cellMetadata": {
      "byteLimit": 2048000,
      "rowLimit": 10000
     },
     "inputWidgets": {},
     "nuid": "b1303636-06dc-4d47-b91f-c496029ae786",
     "showTitle": false,
     "tableResultSettingsMap": {},
     "title": ""
    }
   },
   "outputs": [],
   "source": [
    "# visualizamos las columnas antes de realizar cambios \n",
    "mostrar_columnas(files_fallecidos)"
   ]
  },
  {
   "cell_type": "code",
   "execution_count": 0,
   "metadata": {
    "application/vnd.databricks.v1+cell": {
     "cellMetadata": {
      "byteLimit": 2048000,
      "rowLimit": 10000
     },
     "inputWidgets": {},
     "nuid": "c3568cd0-6596-41f7-8196-39d477b35f86",
     "showTitle": false,
     "tableResultSettingsMap": {},
     "title": ""
    }
   },
   "outputs": [],
   "source": [
    "import os\n",
    "import unidecode\n",
    "from pyspark.sql import functions as F\n",
    "import re \n",
    "\n",
    "archivos = []\n",
    "\n",
    "columnas_finales = [\n",
    "    'num_correlativo', 'anio_ocu', 'mes_ocu', 'dia_ocu', 'dia_sem_ocu',\n",
    "    'hora_ocu', 'depto_ocu', 'mupio_ocu', 'zona_ocu', 'sexo_per',\n",
    "    'edad_per', 'mayor_menor', 'tipo_veh', 'marca_veh', 'color_veh','edad_pil',  'sexo_pil','edad_vic',\n",
    "    'modelo_veh', 'tipo_eve', 'fallecidos_lesionados', 'archivo_origen'\n",
    "]\n",
    "\n",
    "columnas_a_eliminar = [\n",
    "            \"g_edad_2\", \"g_edad_60ymás\", \"g_edad_80ymás\",\n",
    "            \"Otro_g_edad_fall_les\", \"edad_quinquenales\",\n",
    "            \"g_hora_5\", \"g_modelo_veh\", \"int_o_noint\",\n",
    "            \"área_geo_ocu\", \"g_hora\", \"corre_base\"\n",
    "        ]\n",
    "# --- Renombrar variaciones comunes ---\n",
    "renombres = {\n",
    "            \"Núm_corre\": \"num_correlativo\",\n",
    "            \"núm_corre\": \"num_correlativo\",\n",
    "            \"num_corre\": \"num_correlativo\",\n",
    "            \"num_hecho\": \"num_correlativo\",\n",
    "            \"fall_les\": \"fallecidos_lesionados\",\n",
    "            \"sexo_vic\": \"sexo_per\",\n",
    "            \"edad_vic\": \"edad_per\",\n",
    "            \"ano_ocu\": \"anio_ocu\",  \n",
    "            \"año_ocu\": \"anio_ocu\" , \n",
    "            \"área_geo_ocu\":\"areag_ocu\", \n",
    "            \"edad_con\":\"edad_pil\",\n",
    "            \"sexo_con\":\"sexo_pil\",\n",
    "        }\n",
    "        \n",
    "\n",
    "def convert_csv(files, path, columnas_a_eliminar, renombres):\n",
    "    for file in files:\n",
    "        df = spark.read.option(\"header\", \"true\").csv(file, inferSchema=True)\n",
    "        if file == \"dbfs:/Volumes/workspace/default/data_lab8/data lab8/fallecidos/2014 fallecidos y lesionados.csv\" or file == \"dbfs:/Volumes/workspace/default/data_lab8/data lab8/hechos y transito/2014 hechos de transito.csv\": \n",
    "            df = df.drop(\"num_corre\", \"corre_base\") \n",
    "        \n",
    "        for col in columnas_a_eliminar:\n",
    "            if col in df.columns:\n",
    "                df = df.drop(col)\n",
    "\n",
    "\n",
    "        for old, new in renombres.items():\n",
    "            if old in df.columns:\n",
    "                df = df.withColumnRenamed(old, new)\n",
    "\n",
    "        # --- Quitar tildes a todas las columnas ---\n",
    "        df = df.toDF(*[unidecode.unidecode(c).lower() for c in df.columns])\n",
    "\n",
    "        # --- Agregar columna de origen ---\n",
    "        nombre_archivo = os.path.basename(file)\n",
    "        df = df.withColumn(\"archivo_origen\", F.lit(nombre_archivo))\n",
    "\n",
    "\n",
    "        # --- extraer el año del nombre del archivo ---\n",
    "        match = re.search(r'(\\d{4})', nombre_archivo)\n",
    "        anio_archivo = match.group(1) if match else \"Ignorado\"\n",
    "\n",
    "        # --- Rellenar columnas faltantes con \"Ignorado\" ---\n",
    "        for col in columnas_finales:\n",
    "            if col not in df.columns:\n",
    "                if col == \"anio_ocu\":\n",
    "                    df = df.withColumn(col, F.lit(anio_archivo))  # usar año extraído\n",
    "                else:\n",
    "                    df = df.withColumn(col, F.lit(\"Ignorado\"))\n",
    "\n",
    "        # --- Reordenar columnas ---\n",
    "        cols_presentes = [c for c in columnas_finales if c in df.columns]\n",
    "        df = df.select(*cols_presentes)\n",
    "\n",
    "        # --- Guardar ---\n",
    "        nombre_salida = os.path.splitext(nombre_archivo)[0] + \"_limpio.csv\"\n",
    "        ruta_salida = os.path.join(path + 'data_clean/', nombre_salida)\n",
    "        df.coalesce(1).write.mode(\"overwrite\").option(\"header\", \"true\").csv(ruta_salida)\n",
    "\n",
    "        archivos.append(df)\n",
    "        print(f\"\\nProcesado: {nombre_archivo}\")\n",
    "        print(\"Columnas finales:\", df.columns)\n",
    "\n",
    "convert_csv(files_fallecidos, path_fallecidos, columnas_a_eliminar, renombres)\n"
   ]
  },
  {
   "cell_type": "code",
   "execution_count": 0,
   "metadata": {
    "application/vnd.databricks.v1+cell": {
     "cellMetadata": {
      "byteLimit": 2048000,
      "rowLimit": 10000
     },
     "inputWidgets": {},
     "nuid": "8b948a3b-0112-4d55-ae93-ca9f59589214",
     "showTitle": false,
     "tableResultSettingsMap": {},
     "title": ""
    }
   },
   "outputs": [],
   "source": [
    "def leer_df(path):\n",
    "    df = (\n",
    "        spark.read\n",
    "        .option(\"header\", True)\n",
    "        .option(\"delimiter\", \",\")\n",
    "        .option(\"recursiveFileLookup\", \"true\")  #  busca dentro de subcarpetas\n",
    "        .csv(path + \"data_clean/\")\n",
    "    )\n",
    "    df.printSchema()   # Muestra las columnas y tipos de datos\n",
    "    total_filas = df.count()   # Cuenta las filas\n",
    "\n",
    "    print(f\"El DataFrame tiene {total_filas} registros.\")\n",
    "    print(len(df.columns))\n",
    "    return df\n",
    "\n",
    "df_fallecidos= leer_df(path_fallecidos)\n"
   ]
  },
  {
   "cell_type": "code",
   "execution_count": 0,
   "metadata": {
    "application/vnd.databricks.v1+cell": {
     "cellMetadata": {
      "byteLimit": 2048000,
      "rowLimit": 10000
     },
     "inputWidgets": {},
     "nuid": "016cb65a-a3cd-41a1-bbfb-5985c897b451",
     "showTitle": false,
     "tableResultSettingsMap": {},
     "title": ""
    }
   },
   "outputs": [],
   "source": [
    "#Revisión de valores únicos y duplicados\n",
    "for c in df_fallecidos.columns:\n",
    "    print(c, \"→\", df_fallecidos.select(c).distinct().count())"
   ]
  },
  {
   "cell_type": "code",
   "execution_count": 0,
   "metadata": {
    "application/vnd.databricks.v1+cell": {
     "cellMetadata": {
      "byteLimit": 2048000,
      "rowLimit": 10000
     },
     "inputWidgets": {},
     "nuid": "069fd640-9411-4aff-851c-dcb126dfeba3",
     "showTitle": false,
     "tableResultSettingsMap": {},
     "title": ""
    }
   },
   "outputs": [],
   "source": [
    "def mostrar_contenido(df):\n",
    "    for c in df.columns:\n",
    "        print(f\"\\n=============== Columna: {c} ===============\")\n",
    "        valores = df.select(c).distinct().collect()  \n",
    "        print([v[c] for v in valores])\n",
    "\n",
    "mostrar_contenido(df_fallecidos)"
   ]
  },
  {
   "cell_type": "code",
   "execution_count": 0,
   "metadata": {
    "application/vnd.databricks.v1+cell": {
     "cellMetadata": {
      "byteLimit": 2048000,
      "rowLimit": 10000
     },
     "inputWidgets": {},
     "nuid": "2708be70-ba4c-4b0a-b0a4-b16af7c76917",
     "showTitle": false,
     "tableResultSettingsMap": {},
     "title": ""
    }
   },
   "outputs": [],
   "source": [
    "import pyspark.sql.functions as F\n",
    "cols_to_int = [ \"edad_per\", \"edad_pil\"]\n",
    "\n",
    "# Definir todos los mapeos\n",
    "mapeos = {\n",
    "    \"mes_ocu\": {\n",
    "        \"1\": \"Enero\", \"2\": \"Febrero\", \"3\": \"Marzo\", \"4\": \"Abril\", \"5\": \"Mayo\",\n",
    "        \"6\": \"Junio\", \"7\": \"Julio\", \"8\": \"Agosto\", \"9\": \"Septiembre\",\n",
    "        \"10\": \"Octubre\", \"11\": \"Noviembre\", \"12\": \"Diciembre\"\n",
    "    },\n",
    "    \"dia_sem_ocu\": {\n",
    "        '1': 'Lunes', '2': 'Martes', '3': 'Miércoles',\n",
    "        '4': 'Jueves', '5': 'Viernes', '6': 'Sábado', '7': 'Domingo',\n",
    "        'Sabado': 'Sábado', 'Miercoles': 'Miércoles'\n",
    "    },\n",
    "    \"sexo_per\": {\n",
    "        '1': 'Hombre',\n",
    "        '2': 'Mujer',\n",
    "        '9': 'Ignorado',\n",
    "    },\n",
    "    \"tipo_veh\": {\n",
    "        '1': 'Automovil', '2': 'Camioneta', '3': 'Pick up', '4': 'Motocicleta',\n",
    "        '5': 'Camión', '6': 'Cabezal', '7': 'Bus extraurbano', '8': 'Jeep',\n",
    "        '9': 'Microbús', '10': 'Taxi', '11': 'Panel', '12': 'Bus urbano',\n",
    "        '13': 'Tractor', '14': 'Mototaxi', '15': 'Furgón', '16': 'Grúa',\n",
    "        '17': 'Bus escolar', '18': 'Bicicleta', '99': 'Ignorado', '19':'Avioneta',\n",
    "        '20':'Montacargas', '21':'Bus militar', '22':'Cuatrimoto', '23':'Furgoneta','Microb?s':'Microbús',\n",
    "        'Cami?n':'Camión', 'Motos acu?ticas':'Motos acuáticas', 'Gr?a':'Grúa','Autom?vil':'Automóvil'\n",
    "    },\n",
    "    \"mayor_menor\": {\n",
    "        '1': 'Mayor',\n",
    "        '2': 'Menor',\n",
    "        '9':'Ignorado'\n",
    "    },\n",
    "    \"fallecidos_lesionados\": {\n",
    "        '1': 'Fallecido',\n",
    "        '2': 'Lesionado',\n",
    "        '9': 'Ignorado'\n",
    "    },\n",
    "    \"tipo_eve\": {\n",
    "        '1': 'Colisión', '2': 'Choque', '3': 'Vuelco', '4': 'Caída',\n",
    "        '5': 'Atropello', '6': 'Derrape', '7': 'Embarranco',\n",
    "        '8': 'Encuneto', '99': 'Ignorado'\n",
    "    },\n",
    "    \"color_veh\": {\n",
    "        '1': 'Rojo', '2': 'Blanco', '3': 'Azul', '4': 'Gris', '5': 'Negro',\n",
    "        '6': 'Verde', '7': 'Amarillo', '8': 'Celeste', '9': 'Corinto',\n",
    "        '10': 'Café', '11': 'Beige', '12': 'Turquesa', '13': 'Marfil',\n",
    "        '14': 'Anaranjado', '15': 'Morado', '16': 'Rosado',\n",
    "        '17': 'Varios colores', '99': 'Ignorado','Colisi?n': 'Colisión',\n",
    "        'Ca?da': 'Caída',\n",
    "        'Encunet?': 'Encuneto',\n",
    "        'Embarranc?':'Embarranco',\n",
    "        'Embarrancó':'Embarranco',\n",
    "    },\n",
    "    \"edad_per\": {\n",
    "        'Ignorado': '999',\n",
    "        'Ignorada': '999',\n",
    "        \n",
    "    },\n",
    "    \"edad_pil\": {\n",
    "        'Ignorado': '999',\n",
    "        'Ignorada': '999',\n",
    "        \n",
    "    },\n",
    "    \"zona_ocu\": {\n",
    "        'Ignorado': '99',\n",
    "        'Ignorada': '99',\n",
    "    },\n",
    "     \"hora_ocu\": {\n",
    "        'Ignorado': '99',\n",
    "        'Ignorada':'99'\n",
    "    },\n",
    "      \"areag_ocu\": {\n",
    "        '1': 'Urbana',\n",
    "        '2': 'Rural',\n",
    "    },\n",
    "      \"estado_pil\": {\n",
    "        '1': 'Normal',\n",
    "        '2': 'Bajo efectos de alcohol',\n",
    "        '3':'Drogado', \n",
    "        '9':'Ignorado'\n",
    "    },\n",
    "      \"sexo_pil\": {\n",
    "        '1': 'Hombre',\n",
    "        '2': 'Mujer',\n",
    "        '9': 'Ignorado',\n",
    "    },\n",
    "     \n",
    "     \n",
    "    \n",
    "}\n",
    "\n",
    "# Función para aplicar mapeos de forma eficiente\n",
    "def aplicar_mapeo(df, columna, mapeo_dict):\n",
    "    \"\"\"Aplica un mapeo a una columna del DataFrame\"\"\"\n",
    "    map_expr = F.create_map([F.lit(x) for kv in mapeo_dict.items() for x in kv])\n",
    "    return df.withColumn(columna, F.coalesce(map_expr[F.col(columna)], F.col(columna)))\n",
    "\n",
    "\n",
    "# Leer municipios una sola vez\n",
    "dptos_muni = spark.read.option(\"header\", \"true\").csv(\"/Volumes/workspace/default/data_lab8/data lab8/municipios.csv\")\n",
    "dic_municipios = {row['numero']: row['departamento'] for row in dptos_muni.collect()}\n",
    "\n",
    "# Leer marcas de carros\n",
    "marcas = spark.read.option(\"header\", \"true\").csv(\"/Volumes/workspace/default/data_lab8/data lab8/marcas.csv\")\n",
    "dic_marcas = {row['numero']: row['marca'] for row in marcas.collect()}\n",
    "\n",
    "# Agregar mapeo de municipios\n",
    "mapeos[\"depto_ocu\"] = dic_municipios\n",
    "mapeos[\"mupio_ocu\"] = dic_municipios\n",
    "mapeos[\"marca_veh\"] = dic_marcas\n",
    "\n",
    "# Aplicar todos los mapeos en un solo loop\n",
    "for columna, mapeo in mapeos.items():\n",
    "    if columna in df_fallecidos.columns:\n",
    "        df_fallecidos = aplicar_mapeo(df_fallecidos, columna, mapeo)\n",
    "\n",
    "# Convertir columnas a integer\n",
    "for col in cols_to_int:\n",
    "    if col in df_fallecidos.columns:\n",
    "        df_fallecidos = df_fallecidos.withColumn(col, F.col(col).cast(\"int\"))\n",
    "\n",
    "print(df_fallecidos.columns)"
   ]
  },
  {
   "cell_type": "code",
   "execution_count": 0,
   "metadata": {
    "application/vnd.databricks.v1+cell": {
     "cellMetadata": {
      "byteLimit": 2048000,
      "rowLimit": 10000
     },
     "inputWidgets": {},
     "nuid": "5372ad2a-0b1b-4829-b496-95c95fb01fb1",
     "showTitle": false,
     "tableResultSettingsMap": {},
     "title": ""
    }
   },
   "outputs": [],
   "source": [
    "mostrar_contenido(df_fallecidos)\n"
   ]
  },
  {
   "cell_type": "code",
   "execution_count": 0,
   "metadata": {
    "application/vnd.databricks.v1+cell": {
     "cellMetadata": {
      "byteLimit": 2048000,
      "rowLimit": 10000
     },
     "inputWidgets": {},
     "nuid": "080bb5e1-614b-4a63-a933-a95a84653de1",
     "showTitle": false,
     "tableResultSettingsMap": {},
     "title": ""
    }
   },
   "outputs": [],
   "source": [
    "mostrar_columnas(files_hechos)"
   ]
  },
  {
   "cell_type": "code",
   "execution_count": 0,
   "metadata": {
    "application/vnd.databricks.v1+cell": {
     "cellMetadata": {
      "byteLimit": 2048000,
      "rowLimit": 10000
     },
     "inputWidgets": {},
     "nuid": "94af1216-2fd3-443b-a814-fb008ed4e20e",
     "showTitle": false,
     "tableResultSettingsMap": {},
     "title": ""
    }
   },
   "outputs": [],
   "source": [
    "columnas_finales = [\n",
    "    'num_correlativo', 'anio_ocu', 'mes_ocu', 'dia_ocu', 'dia_sem_ocu',\n",
    "    'hora_ocu', 'depto_ocu', 'mupio_ocu', 'zona_ocu', 'sexo_per','causa_acc',\n",
    "    'edad_per','edad_pil',  'sexo_pil','estado_pil','mayor_menor', 'tipo_veh', 'marca_veh', 'color_veh',\n",
    "    'modelo_veh', 'tipo_eve', 'fallecidos_lesionados','areag_ocu', 'archivo_origen']\n",
    "\n",
    "\n",
    "columnas_a_eliminar = [\n",
    "            \"g_edad_2\", \"g_edad_60ymás\", \"g_edad_80ymás\",\n",
    "            \"Otro_g_edad_fall_les\", \"edad_quinquenales\",\n",
    "            \"g_hora_5\", \"g_modelo_veh\", \"int_o_noint\",\n",
    "            \"área_geo_ocu\", \"g_hora\", \"corre_base\"\n",
    "        ]\n",
    "renombres = {\n",
    "            \"Año_ocu\":\"anio_ocu\",\n",
    "            \"edad_con\":\"edad_pil\",\n",
    "            \"sexo_con\":\"sexo_pil\",\n",
    "            \"causa_acc\":\"tipo_eve\",\n",
    "            \"estado_con\":\"estado_pil\",\n",
    "            \"Núm_corre\": \"num_correlativo\",\n",
    "            \"núm_corre\": \"num_correlativo\",\n",
    "            \"num_corre\": \"num_correlativo\",\n",
    "            \"num_hecho\": \"num_correlativo\",\n",
    "            \"fall_les\": \"fallecidos_lesionados\",\n",
    "            \"sexo_vic\": \"sexo_per\",\n",
    "            \"edad_vic\": \"edad_per\",\n",
    "            \"ano_ocu\": \"anio_ocu\",  \n",
    "            \"año_ocu\": \"anio_ocu\"    \n",
    "        }\n",
    "convert_csv(files_hechos, path_hechos, columnas_a_eliminar, renombres)"
   ]
  },
  {
   "cell_type": "code",
   "execution_count": 0,
   "metadata": {
    "application/vnd.databricks.v1+cell": {
     "cellMetadata": {
      "byteLimit": 2048000,
      "rowLimit": 10000
     },
     "inputWidgets": {},
     "nuid": "00c6169c-ce22-4d2f-a9ec-72038c75c894",
     "showTitle": false,
     "tableResultSettingsMap": {},
     "title": ""
    }
   },
   "outputs": [],
   "source": [
    "df_hechos = leer_df(path_hechos)"
   ]
  },
  {
   "cell_type": "code",
   "execution_count": 0,
   "metadata": {
    "application/vnd.databricks.v1+cell": {
     "cellMetadata": {
      "byteLimit": 2048000,
      "rowLimit": 10000
     },
     "inputWidgets": {},
     "nuid": "7f354594-6569-48b1-bd5a-ec444f4e68e0",
     "showTitle": false,
     "tableResultSettingsMap": {},
     "title": ""
    }
   },
   "outputs": [],
   "source": [
    "mostrar_contenido(df_hechos)"
   ]
  },
  {
   "cell_type": "code",
   "execution_count": 0,
   "metadata": {
    "application/vnd.databricks.v1+cell": {
     "cellMetadata": {
      "byteLimit": 2048000,
      "rowLimit": 10000
     },
     "inputWidgets": {},
     "nuid": "248b63d8-a37a-4ce3-86c6-6093fca0d6bf",
     "showTitle": false,
     "tableResultSettingsMap": {},
     "title": ""
    }
   },
   "outputs": [],
   "source": [
    "\n",
    "# Aplicar todos los mapeos en un solo loop\n",
    "for columna, mapeo in mapeos.items():\n",
    "    if columna in df_hechos.columns:\n",
    "        df_hechos = aplicar_mapeo(df_hechos, columna, mapeo)\n",
    "\n",
    "for col in cols_to_int:\n",
    "    if col in df_hechos.columns:\n",
    "        df_hechos = df_hechos.withColumn(col, F.col(col).cast(\"int\"))\n",
    "\n",
    "print(df_hechos.columns)"
   ]
  },
  {
   "cell_type": "code",
   "execution_count": 0,
   "metadata": {
    "application/vnd.databricks.v1+cell": {
     "cellMetadata": {
      "byteLimit": 2048000,
      "rowLimit": 10000
     },
     "inputWidgets": {},
     "nuid": "227180e4-15a5-4130-b2d0-4f7f8689d561",
     "showTitle": false,
     "tableResultSettingsMap": {},
     "title": ""
    }
   },
   "outputs": [],
   "source": [
    "\n",
    "mostrar_contenido(df_hechos)"
   ]
  },
  {
   "cell_type": "code",
   "execution_count": 0,
   "metadata": {
    "application/vnd.databricks.v1+cell": {
     "cellMetadata": {
      "byteLimit": 2048000,
      "rowLimit": 10000
     },
     "inputWidgets": {},
     "nuid": "20f313e4-8f1a-4b6c-976c-db85938c0234",
     "showTitle": false,
     "tableResultSettingsMap": {},
     "title": ""
    }
   },
   "outputs": [],
   "source": [
    "mostrar_columnas(files_vehiculos)"
   ]
  },
  {
   "cell_type": "code",
   "execution_count": 0,
   "metadata": {
    "application/vnd.databricks.v1+cell": {
     "cellMetadata": {
      "byteLimit": 2048000,
      "rowLimit": 10000
     },
     "inputWidgets": {},
     "nuid": "365922e6-5fe4-4bbe-82d4-2cde86225fb2",
     "showTitle": false,
     "tableResultSettingsMap": {},
     "title": ""
    }
   },
   "outputs": [],
   "source": [
    "columnas_finales = [\n",
    "    'num_correlativo', 'anio_ocu', 'mes_ocu', 'dia_ocu', 'dia_sem_ocu',\n",
    "    'hora_ocu', 'depto_ocu', 'mupio_ocu', 'zona_ocu', 'sexo_per','causa_acc',\n",
    "    'edad_per','edad_pil',  'sexo_pil','estado_pil','mayor_menor', 'tipo_veh', 'marca_veh', 'color_veh',\n",
    "    'modelo_veh', 'tipo_eve', 'fallecidos_lesionados','areag_ocu', 'archivo_origen']\n",
    "\n",
    "\n",
    "columnas_a_eliminar = [\n",
    "            \"g_edad_2\", \"g_edad_60ymás\", \"g_edad_80ymás\",\n",
    "            \"Otro_g_edad_fall_les\", \"edad_quinquenales\",\n",
    "            \"g_hora_5\", \"g_modelo_veh\", \"int_o_noint\",\n",
    "            \"área_geo_ocu\", \"g_hora\", \"corre_base\"\n",
    "        ]\n",
    "renombres = {\n",
    "            \"Año_ocu\":\"anio_ocu\",\n",
    "            \"edad_con\":\"edad_pil\",\n",
    "            \"sexo_con\":\"sexo_pil\",\n",
    "            \"causa_acc\":\"tipo_eve\",\n",
    "            \"estado_con\":\"estado_pil\",\n",
    "            \"Núm_corre\": \"num_correlativo\",\n",
    "            \"núm_corre\": \"num_correlativo\",\n",
    "            \"num_corre\": \"num_correlativo\",\n",
    "            \"num_hecho\": \"num_correlativo\",\n",
    "            \"fall_les\": \"fallecidos_lesionados\",\n",
    "            \"sexo_vic\": \"sexo_per\",\n",
    "            \"edad_vic\": \"edad_per\",\n",
    "            \"ano_ocu\": \"anio_ocu\",  \n",
    "            \"año_ocu\": \"anio_ocu\"    \n",
    "        }\n",
    "convert_csv(files_vehiculos, path_vehiculos, columnas_a_eliminar, renombres)"
   ]
  },
  {
   "cell_type": "code",
   "execution_count": 0,
   "metadata": {
    "application/vnd.databricks.v1+cell": {
     "cellMetadata": {
      "byteLimit": 2048000,
      "rowLimit": 10000
     },
     "inputWidgets": {},
     "nuid": "c9bb6eed-2709-4488-9325-208295b9c438",
     "showTitle": false,
     "tableResultSettingsMap": {},
     "title": ""
    }
   },
   "outputs": [],
   "source": [
    "df_vehiculos = leer_df(path_vehiculos)\n"
   ]
  },
  {
   "cell_type": "code",
   "execution_count": 0,
   "metadata": {
    "application/vnd.databricks.v1+cell": {
     "cellMetadata": {
      "byteLimit": 2048000,
      "rowLimit": 10000
     },
     "inputWidgets": {},
     "nuid": "fafcac19-3f30-401f-b8e5-6100ea83329d",
     "showTitle": false,
     "tableResultSettingsMap": {},
     "title": ""
    }
   },
   "outputs": [],
   "source": [
    "mostrar_contenido(df_vehiculos)"
   ]
  },
  {
   "cell_type": "code",
   "execution_count": 0,
   "metadata": {
    "application/vnd.databricks.v1+cell": {
     "cellMetadata": {
      "byteLimit": 2048000,
      "rowLimit": 10000
     },
     "inputWidgets": {},
     "nuid": "961085d8-8e97-4087-a203-4f936beb4556",
     "showTitle": false,
     "tableResultSettingsMap": {},
     "title": ""
    }
   },
   "outputs": [],
   "source": [
    "for columna, mapeo in mapeos.items():\n",
    "    if columna in df_vehiculos.columns:\n",
    "        df_vehiculos = aplicar_mapeo(df_vehiculos, columna, mapeo)\n",
    "        \n",
    "for col in cols_to_int:\n",
    "    if col in df_vehiculos.columns:\n",
    "        df_vehiculos = df_vehiculos.withColumn(col, F.col(col).cast(\"int\"))\n",
    "print(df_vehiculos.columns)"
   ]
  },
  {
   "cell_type": "code",
   "execution_count": 0,
   "metadata": {
    "application/vnd.databricks.v1+cell": {
     "cellMetadata": {
      "byteLimit": 2048000,
      "rowLimit": 10000
     },
     "inputWidgets": {},
     "nuid": "e5ca1905-3d6a-4c45-9c3e-eb195037024e",
     "showTitle": false,
     "tableResultSettingsMap": {},
     "title": ""
    }
   },
   "outputs": [],
   "source": [
    "mostrar_contenido(df_vehiculos)"
   ]
  },
  {
   "cell_type": "markdown",
   "metadata": {
    "application/vnd.databricks.v1+cell": {
     "cellMetadata": {
      "byteLimit": 2048000,
      "rowLimit": 10000
     },
     "inputWidgets": {},
     "nuid": "a52c17c8-e4d6-420d-96f5-9283f09170a8",
     "showTitle": false,
     "tableResultSettingsMap": {},
     "title": ""
    }
   },
   "source": [
    "### 1. Mostrar cuántos registros hay en cada tabla (hechos, vehículos, fallecidos, lesionados). Muestre algunos resultados con la función .show(). Genere un describe y summary para aquellas columnas que considere importantes según cada archivo.\n"
   ]
  },
  {
   "cell_type": "code",
   "execution_count": 0,
   "metadata": {
    "application/vnd.databricks.v1+cell": {
     "cellMetadata": {
      "byteLimit": 2048000,
      "rowLimit": 10000
     },
     "inputWidgets": {},
     "nuid": "72232705-aec6-4151-95b4-d70482050cf5",
     "showTitle": false,
     "tableResultSettingsMap": {},
     "title": ""
    }
   },
   "outputs": [],
   "source": [
    "print(\"Registros en cada tabla:\")\n",
    "print(f\"Hechos: {df_hechos.count()}\")\n",
    "print(f\"Vehículos: {df_vehiculos.count()}\")\n",
    "print(f\"Fallecidos: {df_fallecidos.count()}\")"
   ]
  },
  {
   "cell_type": "code",
   "execution_count": 0,
   "metadata": {
    "application/vnd.databricks.v1+cell": {
     "cellMetadata": {
      "byteLimit": 2048000,
      "rowLimit": 10000
     },
     "inputWidgets": {},
     "nuid": "ced00669-7e3f-4815-b521-c796fc67a061",
     "showTitle": false,
     "tableResultSettingsMap": {},
     "title": ""
    }
   },
   "outputs": [],
   "source": [
    "df_fallecidos.show(5)"
   ]
  },
  {
   "cell_type": "code",
   "execution_count": 0,
   "metadata": {
    "application/vnd.databricks.v1+cell": {
     "cellMetadata": {
      "byteLimit": 2048000,
      "rowLimit": 10000
     },
     "inputWidgets": {},
     "nuid": "80e6c951-bb34-4092-a2cc-af303b806243",
     "showTitle": false,
     "tableResultSettingsMap": {},
     "title": ""
    }
   },
   "outputs": [],
   "source": [
    "df_fallecidos.describe([\"fallecidos_lesionados\"]).show()\n",
    "df_fallecidos.select(\"dia_ocu\", \"edad_per\").summary().show()\n"
   ]
  },
  {
   "cell_type": "code",
   "execution_count": 0,
   "metadata": {
    "application/vnd.databricks.v1+cell": {
     "cellMetadata": {
      "byteLimit": 2048000,
      "rowLimit": 10000
     },
     "inputWidgets": {},
     "nuid": "c09bf4b6-5a57-41ad-bad6-9683029d1ec0",
     "showTitle": false,
     "tableResultSettingsMap": {},
     "title": ""
    }
   },
   "outputs": [],
   "source": [
    "df_hechos.show(5)"
   ]
  },
  {
   "cell_type": "code",
   "execution_count": 0,
   "metadata": {
    "application/vnd.databricks.v1+cell": {
     "cellMetadata": {
      "byteLimit": 2048000,
      "rowLimit": 10000
     },
     "inputWidgets": {},
     "nuid": "a0512cb2-4187-4e93-b618-26905500e45d",
     "showTitle": false,
     "tableResultSettingsMap": {},
     "title": ""
    }
   },
   "outputs": [],
   "source": [
    "df_hechos.describe([\"tipo_eve\"]).show()\n",
    "df_hechos.select(\"dia_ocu\", \"edad_per\").summary().show()\n"
   ]
  },
  {
   "cell_type": "code",
   "execution_count": 0,
   "metadata": {
    "application/vnd.databricks.v1+cell": {
     "cellMetadata": {
      "byteLimit": 2048000,
      "rowLimit": 10000
     },
     "inputWidgets": {},
     "nuid": "f8baa041-bc12-4ae2-bbdc-174db7f98baf",
     "showTitle": false,
     "tableResultSettingsMap": {},
     "title": ""
    }
   },
   "outputs": [],
   "source": [
    "df_vehiculos.show(5)\n"
   ]
  },
  {
   "cell_type": "code",
   "execution_count": 0,
   "metadata": {
    "application/vnd.databricks.v1+cell": {
     "cellMetadata": {
      "byteLimit": 2048000,
      "rowLimit": 10000
     },
     "inputWidgets": {},
     "nuid": "0cdf50b6-52f0-4a48-b99e-90c651149c1a",
     "showTitle": false,
     "tableResultSettingsMap": {},
     "title": ""
    }
   },
   "outputs": [],
   "source": [
    "df_vehiculos.describe([\"tipo_veh\"]).show()\n",
    "df_vehiculos.select(\"dia_ocu\", \"edad_pil\").summary().show()\n"
   ]
  },
  {
   "cell_type": "markdown",
   "metadata": {
    "application/vnd.databricks.v1+cell": {
     "cellMetadata": {
      "byteLimit": 2048000,
      "rowLimit": 10000
     },
     "inputWidgets": {},
     "nuid": "e4b88b3a-2b56-4833-9c0f-2b948bbf6d3f",
     "showTitle": false,
     "tableResultSettingsMap": {},
     "title": ""
    }
   },
   "source": [
    "### 2. Identificar los años disponibles en cada tabla y validar si coinciden. "
   ]
  },
  {
   "cell_type": "code",
   "execution_count": 0,
   "metadata": {
    "application/vnd.databricks.v1+cell": {
     "cellMetadata": {
      "byteLimit": 2048000,
      "rowLimit": 10000
     },
     "inputWidgets": {},
     "nuid": "8a27e4a1-0c51-4363-b1af-a2c65a6ae84b",
     "showTitle": false,
     "tableResultSettingsMap": {},
     "title": ""
    }
   },
   "outputs": [],
   "source": [
    "print(\"=== Años en HECHOS ===\")\n",
    "df_hechos.select(\"anio_ocu\").distinct().orderBy(\"anio_ocu\").show()\n",
    "\n",
    "print(\"=== Años en VEHÍCULOS ===\")\n",
    "df_vehiculos.select(\"anio_ocu\").distinct().orderBy(\"anio_ocu\").show()\n",
    "\n",
    "print(\"=== Años en FALLECIDOS ===\")\n",
    "df_fallecidos.select(\"anio_ocu\").distinct().orderBy(\"anio_ocu\").show()"
   ]
  },
  {
   "cell_type": "code",
   "execution_count": 0,
   "metadata": {
    "application/vnd.databricks.v1+cell": {
     "cellMetadata": {
      "byteLimit": 2048000,
      "rowLimit": 10000
     },
     "inputWidgets": {},
     "nuid": "13bb3518-d740-45d9-a651-2319746dbdb4",
     "showTitle": false,
     "tableResultSettingsMap": {},
     "title": ""
    }
   },
   "outputs": [],
   "source": [
    "# Convertir los resultados a listas de años\n",
    "anios_hechos = [row[\"anio_ocu\"] for row in df_hechos.select(\"anio_ocu\").distinct().collect()]\n",
    "anios_vehiculos = [row[\"anio_ocu\"] for row in df_vehiculos.select(\"anio_ocu\").distinct().collect()]\n",
    "anios_fallecidos = [row[\"anio_ocu\"] for row in df_fallecidos.select(\"anio_ocu\").distinct().collect()]\n",
    "\n",
    "# Comparar conjuntos\n",
    "set_hechos = set(anios_hechos)\n",
    "set_vehiculos = set(anios_vehiculos)\n",
    "set_fallecidos = set(anios_fallecidos)\n",
    "\n",
    "print(\"Años en hechos:\", set_hechos)\n",
    "print(\"Años en vehículos:\", set_vehiculos)\n",
    "print(\"Años en fallecidos:\", set_fallecidos)\n",
    "\n",
    "# Verificar si todos coinciden\n",
    "if set_hechos == set_vehiculos == set_fallecidos :\n",
    "    print(\"-------- Todos los conjuntos de años coinciden en las tablas.\")\n",
    "else:\n",
    "    print(\"Los años NO coinciden entre las tablas.\")\n",
    "    print(\"Años faltantes o diferentes por tabla:\")\n",
    "    print(\" - En vehículos no están:\", set_hechos - set_vehiculos)\n",
    "    print(\" - En fallecidos no están:\", set_hechos - set_fallecidos)\n"
   ]
  },
  {
   "cell_type": "markdown",
   "metadata": {
    "application/vnd.databricks.v1+cell": {
     "cellMetadata": {
      "byteLimit": 2048000,
      "rowLimit": 10000
     },
     "inputWidgets": {},
     "nuid": "60ab9a2b-88c7-45e0-8d9f-f551a48fe32f",
     "showTitle": false,
     "tableResultSettingsMap": {},
     "title": ""
    }
   },
   "source": [
    "### 3.  Mostrar los valores distintos de tipo de accidente."
   ]
  },
  {
   "cell_type": "code",
   "execution_count": 0,
   "metadata": {
    "application/vnd.databricks.v1+cell": {
     "cellMetadata": {
      "byteLimit": 2048000,
      "rowLimit": 10000
     },
     "inputWidgets": {},
     "nuid": "54057a30-8705-4fb1-be27-6fa56e9d10d1",
     "showTitle": false,
     "tableResultSettingsMap": {},
     "title": ""
    }
   },
   "outputs": [],
   "source": [
    "\n",
    "df_fallecidos.select(\"tipo_eve\").distinct().show(truncate=False)"
   ]
  },
  {
   "cell_type": "markdown",
   "metadata": {
    "application/vnd.databricks.v1+cell": {
     "cellMetadata": {
      "byteLimit": 2048000,
      "rowLimit": 10000
     },
     "inputWidgets": {},
     "nuid": "4b292c9a-cdd3-4e24-a308-21a06b490213",
     "showTitle": false,
     "tableResultSettingsMap": {},
     "title": ""
    }
   },
   "source": [
    "### 4.  Calcular cuántos departamentos únicos aparecen en las bases. "
   ]
  },
  {
   "cell_type": "code",
   "execution_count": 0,
   "metadata": {
    "application/vnd.databricks.v1+cell": {
     "cellMetadata": {
      "byteLimit": 2048000,
      "rowLimit": 10000
     },
     "inputWidgets": {},
     "nuid": "f2bbf201-d108-4d10-8e87-4f15bba268f0",
     "showTitle": false,
     "tableResultSettingsMap": {},
     "title": ""
    }
   },
   "outputs": [],
   "source": [
    "def departamentos_count(df):\n",
    "    num_departamentos = df.select(\"depto_ocu\").distinct().count()\n",
    "    print(f\"Número de departamentos únicos: {num_departamentos}\")\n",
    "\n",
    "    departamentos_unicos = [row['depto_ocu'] for row in df.select(\"depto_ocu\").distinct().collect()]\n",
    "    print(departamentos_unicos)\n",
    "\n",
    "departamentos_count(df_hechos)\n",
    "departamentos_count(df_vehiculos)\n",
    "departamentos_count(df_fallecidos)\n",
    "\n"
   ]
  },
  {
   "cell_type": "markdown",
   "metadata": {
    "application/vnd.databricks.v1+cell": {
     "cellMetadata": {
      "byteLimit": 2048000,
      "rowLimit": 10000
     },
     "inputWidgets": {},
     "nuid": "c2fe9922-ff81-4787-a8d9-702bcd32cc34",
     "showTitle": false,
     "tableResultSettingsMap": {},
     "title": ""
    }
   },
   "source": [
    "###  5. ¿Cuál es el total de accidentes por año y departamento? Apóyese de la función groupBy. Investigue la función display que tiene Databricks y muestre su resultado en formato de gráfico de barras. "
   ]
  },
  {
   "cell_type": "code",
   "execution_count": 0,
   "metadata": {
    "application/vnd.databricks.v1+cell": {
     "cellMetadata": {
      "byteLimit": 2048000,
      "rowLimit": 10000
     },
     "inputWidgets": {},
     "nuid": "f931622c-a7fa-4420-b08f-1dd17bb690da",
     "showTitle": false,
     "tableResultSettingsMap": {},
     "title": ""
    }
   },
   "outputs": [
    {
     "output_type": "display_data",
     "data": {
      "text/plain": [
       "Databricks visualization. Run in Databricks to view."
      ]
     },
     "metadata": {
      "application/vnd.databricks.v1.subcommand+json": {
       "baseErrorDetails": null,
       "bindings": {},
       "collapsed": false,
       "command": "%python\n__backend_agg_display_orig = display\n__backend_agg_dfs = []\ndef __backend_agg_display_new(df):\n    __backend_agg_df_modules = [\"pandas.core.frame\", \"databricks.koalas.frame\", \"pyspark.sql.dataframe\", \"pyspark.pandas.frame\", \"pyspark.sql.connect.dataframe\"]\n    if (type(df).__module__ in __backend_agg_df_modules and type(df).__name__ == 'DataFrame') or isinstance(df, list):\n        __backend_agg_dfs.append(df)\n\ndisplay = __backend_agg_display_new\n\ndef __backend_agg_user_code_fn():\n    import base64\n    exec(base64.standard_b64decode(\"IyBBZ3J1cGFyIHBvciBhw7FvIHkgZGVwYXJ0YW1lbnRvIHkgY29udGFyIGFjY2lkZW50ZXMKYWNjaWRlbnRlc19wb3JfYW5pb19kZXB0byA9IGRmX2ZhbGxlY2lkb3MuZ3JvdXBCeSgiYW5pb19vY3UiLCAiZGVwdG9fb2N1IikuY291bnQoKQoKIyBNb3N0cmFyIGVsIHJlc3VsdGFkbyBjb21vIHRhYmxhCmFjY2lkZW50ZXNfcG9yX2FuaW9fZGVwdG8uc2hvdygpCgpkaXNwbGF5KGFjY2lkZW50ZXNfcG9yX2FuaW9fZGVwdG8pCg==\").decode())\n\ntry:\n    # run user code\n    __backend_agg_user_code_fn()\n\n    #reset display function\n    display = __backend_agg_display_orig\n\n    if len(__backend_agg_dfs) > 0:\n        # create a temp view\n        if type(__backend_agg_dfs[0]).__module__ == \"databricks.koalas.frame\":\n            # koalas dataframe\n            __backend_agg_dfs[0].to_spark().createOrReplaceTempView(\"DatabricksViewfb1b64e\")\n        elif type(__backend_agg_dfs[0]).__module__ == \"pandas.core.frame\" or isinstance(__backend_agg_dfs[0], list):\n            # pandas dataframe\n            spark.createDataFrame(__backend_agg_dfs[0]).createOrReplaceTempView(\"DatabricksViewfb1b64e\")\n        else:\n            __backend_agg_dfs[0].createOrReplaceTempView(\"DatabricksViewfb1b64e\")\n        #run backend agg\n        display(spark.sql(\"\"\"WITH q AS (select * from DatabricksViewfb1b64e) SELECT `anio_ocu`,`depto_ocu`,SUM(`count`) `column_95cd6283244` FROM q GROUP BY `anio_ocu`,`depto_ocu`\"\"\"))\n    else:\n        displayHTML(\"dataframe no longer exists. If you're using dataframe.display(), use display(dataframe) instead.\")\n\n\nfinally:\n    spark.sql(\"drop view if exists DatabricksViewfb1b64e\")\n    display = __backend_agg_display_orig\n    del __backend_agg_display_new\n    del __backend_agg_display_orig\n    del __backend_agg_dfs\n    del __backend_agg_user_code_fn\n\n",
       "commandTitle": "Visualization 1",
       "commandType": "auto",
       "commandVersion": 0,
       "commentThread": [],
       "commentsVisible": false,
       "contentSha256Hex": null,
       "customPlotOptions": {
        "redashChart": [
         {
          "key": "type",
          "value": "CHART"
         },
         {
          "key": "options",
          "value": {
           "alignYAxesAtZero": true,
           "coefficient": 1,
           "columnConfigurationMap": {
            "series": {
             "column": "depto_ocu",
             "id": "column_95cd6283243"
            },
            "x": {
             "column": "anio_ocu",
             "id": "column_95cd6283242"
            },
            "y": [
             {
              "column": "count",
              "id": "column_95cd6283244",
              "transform": "SUM"
             }
            ]
           },
           "dateTimeFormat": "DD/MM/YYYY HH:mm",
           "direction": {
            "type": "counterclockwise"
           },
           "error_y": {
            "type": "data",
            "visible": true
           },
           "globalSeriesType": "column",
           "legend": {
            "traceorder": "normal"
           },
           "missingValuesAsZero": true,
           "numberFormat": "0,0.[00000]",
           "percentFormat": "0[.]00%",
           "series": {
            "error_y": {
             "type": "data",
             "visible": true
            },
            "stacking": "stack"
           },
           "seriesOptions": {
            "column_95cd6283244": {
             "name": "count",
             "yAxis": 0
            }
           },
           "showDataLabels": false,
           "sizemode": "diameter",
           "sortX": true,
           "sortY": true,
           "swappedAxes": true,
           "textFormat": "",
           "useAggregationsUi": true,
           "valuesOptions": {},
           "version": 2,
           "xAxis": {
            "labels": {
             "enabled": true
            },
            "type": "-"
           },
           "yAxis": [
            {
             "type": "-"
            },
            {
             "opposite": true,
             "type": "-"
            }
           ]
          }
         }
        ]
       },
       "datasetPreviewNameToCmdIdMap": {},
       "diffDeletes": [],
       "diffInserts": [],
       "displayType": "redashChart",
       "error": null,
       "errorDetails": null,
       "errorSummary": null,
       "errorTraceType": null,
       "finishTime": 0,
       "globalVars": {},
       "guid": "",
       "height": "auto",
       "hideCommandCode": false,
       "hideCommandResult": false,
       "iPythonMetadata": null,
       "inputWidgets": {},
       "isLockedInExamMode": false,
       "latestAssumeRoleInfo": null,
       "latestUser": "a user",
       "latestUserId": null,
       "listResultMetadata": null,
       "metadata": {
        "byteLimit": 2048000,
        "rowLimit": 10000
       },
       "nuid": "01a7a057-0101-4bfd-bba4-9e3e2f3e8fd4",
       "origId": 0,
       "parentHierarchy": [],
       "pivotAggregation": null,
       "pivotColumns": null,
       "position": 14.0,
       "resultDbfsErrorMessage": null,
       "resultDbfsStatus": "INLINED_IN_TREE",
       "results": null,
       "showCommandTitle": false,
       "startTime": 0,
       "state": "input",
       "streamStates": {},
       "subcommandOptions": {
        "queryPlan": {
         "groups": [
          {
           "column": "anio_ocu",
           "type": "column"
          },
          {
           "column": "depto_ocu",
           "type": "column"
          }
         ],
         "selects": [
          {
           "column": "anio_ocu",
           "type": "column"
          },
          {
           "column": "depto_ocu",
           "type": "column"
          },
          {
           "alias": "column_95cd6283244",
           "args": [
            {
             "column": "count",
             "type": "column"
            }
           ],
           "function": "SUM",
           "type": "function"
          }
         ]
        }
       },
       "submitTime": 0,
       "subtype": "tableResultSubCmd.visualization",
       "tableResultIndex": 0,
       "tableResultSettingsMap": {},
       "useConsistentColors": false,
       "version": "CommandV1",
       "width": "auto",
       "workflows": null,
       "xColumns": null,
       "yColumns": null
      }
     },
     "output_type": "display_data"
    }
   ],
   "source": [
    "# Agrupar por año y departamento y contar accidentes\n",
    "accidentes_por_anio_depto = df_fallecidos.groupBy(\"anio_ocu\", \"depto_ocu\").count()\n",
    "\n",
    "# Mostrar el resultado como tabla\n",
    "accidentes_por_anio_depto.show()\n",
    "\n",
    "display(accidentes_por_anio_depto)\n"
   ]
  },
  {
   "cell_type": "markdown",
   "metadata": {
    "application/vnd.databricks.v1+cell": {
     "cellMetadata": {
      "byteLimit": 2048000,
      "rowLimit": 10000
     },
     "inputWidgets": {},
     "nuid": "5d1078f8-5fdb-4e17-b13b-ee1c58d5ea77",
     "showTitle": false,
     "tableResultSettingsMap": {},
     "title": ""
    }
   },
   "source": [
    "###  6. ¿Qué día de la semana registra más accidentes en 2023? Graficar con display en un gráfico de columnas\n",
    "Cambiamos la pregunta para que sea al 2023"
   ]
  },
  {
   "cell_type": "code",
   "execution_count": 0,
   "metadata": {
    "application/vnd.databricks.v1+cell": {
     "cellMetadata": {
      "byteLimit": 2048000,
      "rowLimit": 10000
     },
     "inputWidgets": {},
     "nuid": "521b4bc1-287e-4d3a-a214-cb0582fa630a",
     "showTitle": false,
     "tableResultSettingsMap": {},
     "title": ""
    }
   },
   "outputs": [
    {
     "output_type": "display_data",
     "data": {
      "text/plain": [
       "Databricks visualization. Run in Databricks to view."
      ]
     },
     "metadata": {
      "application/vnd.databricks.v1.subcommand+json": {
       "baseErrorDetails": null,
       "bindings": {},
       "collapsed": false,
       "command": "%python\n__backend_agg_display_orig = display\n__backend_agg_dfs = []\ndef __backend_agg_display_new(df):\n    __backend_agg_df_modules = [\"pandas.core.frame\", \"databricks.koalas.frame\", \"pyspark.sql.dataframe\", \"pyspark.pandas.frame\", \"pyspark.sql.connect.dataframe\"]\n    if (type(df).__module__ in __backend_agg_df_modules and type(df).__name__ == 'DataFrame') or isinstance(df, list):\n        __backend_agg_dfs.append(df)\n\ndisplay = __backend_agg_display_new\n\ndef __backend_agg_user_code_fn():\n    import base64\n    exec(base64.standard_b64decode(\"ZGZfMjAyMyA9IGRmX2ZhbGxlY2lkb3MuZmlsdGVyKGRmX2ZhbGxlY2lkb3MuYW5pb19vY3UgPT0gIjIwMjMiKQoKIyBBZ3J1cGFyIHBvciBkw61hIGRlIGxhIHNlbWFuYSB5IGNvbnRhciBhY2NpZGVudGVzCmFjY2lkZW50ZXNfcG9yX2RpYSA9IGRmXzIwMjMuZ3JvdXBCeSgiZGlhX3NlbV9vY3UiKS5jb3VudCgpCgojIE1vc3RyYXIgZWwgcmVzdWx0YWRvIGNvbW8gdGFibGEKYWNjaWRlbnRlc19wb3JfZGlhLnNob3coKQoKIyBFbiBEYXRhYnJpY2tzLCB1c2FyIGRpc3BsYXkgcGFyYSBncmFmaWNhcgpkaXNwbGF5KGFjY2lkZW50ZXNfcG9yX2RpYSkK\").decode())\n\ntry:\n    # run user code\n    __backend_agg_user_code_fn()\n\n    #reset display function\n    display = __backend_agg_display_orig\n\n    if len(__backend_agg_dfs) > 0:\n        # create a temp view\n        if type(__backend_agg_dfs[0]).__module__ == \"databricks.koalas.frame\":\n            # koalas dataframe\n            __backend_agg_dfs[0].to_spark().createOrReplaceTempView(\"DatabricksView60ec884\")\n        elif type(__backend_agg_dfs[0]).__module__ == \"pandas.core.frame\" or isinstance(__backend_agg_dfs[0], list):\n            # pandas dataframe\n            spark.createDataFrame(__backend_agg_dfs[0]).createOrReplaceTempView(\"DatabricksView60ec884\")\n        else:\n            __backend_agg_dfs[0].createOrReplaceTempView(\"DatabricksView60ec884\")\n        #run backend agg\n        display(spark.sql(\"\"\"WITH q AS (select * from DatabricksView60ec884) SELECT `dia_sem_ocu`,SUM(`count`) `column_95cd6283250` FROM q GROUP BY `dia_sem_ocu`\"\"\"))\n    else:\n        displayHTML(\"dataframe no longer exists. If you're using dataframe.display(), use display(dataframe) instead.\")\n\n\nfinally:\n    spark.sql(\"drop view if exists DatabricksView60ec884\")\n    display = __backend_agg_display_orig\n    del __backend_agg_display_new\n    del __backend_agg_display_orig\n    del __backend_agg_dfs\n    del __backend_agg_user_code_fn\n\n",
       "commandTitle": "Visualization 1",
       "commandType": "auto",
       "commandVersion": 0,
       "commentThread": [],
       "commentsVisible": false,
       "contentSha256Hex": null,
       "customPlotOptions": {
        "redashChart": [
         {
          "key": "type",
          "value": "CHART"
         },
         {
          "key": "options",
          "value": {
           "alignYAxesAtZero": true,
           "coefficient": 1,
           "columnConfigurationMap": {
            "x": {
             "column": "dia_sem_ocu",
             "id": "column_95cd6283249"
            },
            "y": [
             {
              "column": "count",
              "id": "column_95cd6283250",
              "transform": "SUM"
             }
            ]
           },
           "dateTimeFormat": "DD/MM/YYYY HH:mm",
           "direction": {
            "type": "counterclockwise"
           },
           "error_y": {
            "type": "data",
            "visible": true
           },
           "globalSeriesType": "column",
           "legend": {
            "traceorder": "normal"
           },
           "missingValuesAsZero": true,
           "numberFormat": "0,0.[00000]",
           "percentFormat": "0[.]00%",
           "series": {
            "error_y": {
             "type": "data",
             "visible": true
            },
            "stacking": null
           },
           "seriesOptions": {
            "column_95cd6283250": {
             "name": "count",
             "yAxis": 0
            }
           },
           "showDataLabels": false,
           "sizemode": "diameter",
           "sortX": true,
           "sortY": true,
           "swappedAxes": true,
           "textFormat": "",
           "useAggregationsUi": true,
           "valuesOptions": {},
           "version": 2,
           "xAxis": {
            "labels": {
             "enabled": true
            },
            "type": "-"
           },
           "yAxis": [
            {
             "type": "-"
            },
            {
             "opposite": true,
             "type": "-"
            }
           ]
          }
         }
        ]
       },
       "datasetPreviewNameToCmdIdMap": {},
       "diffDeletes": [],
       "diffInserts": [],
       "displayType": "redashChart",
       "error": null,
       "errorDetails": null,
       "errorSummary": null,
       "errorTraceType": null,
       "finishTime": 0,
       "globalVars": {},
       "guid": "",
       "height": "auto",
       "hideCommandCode": false,
       "hideCommandResult": false,
       "iPythonMetadata": null,
       "inputWidgets": {},
       "isLockedInExamMode": false,
       "latestAssumeRoleInfo": null,
       "latestUser": "a user",
       "latestUserId": null,
       "listResultMetadata": null,
       "metadata": {
        "byteLimit": 2048000,
        "rowLimit": 10000
       },
       "nuid": "0dec7d7d-8e54-4699-8029-b34e327c79b7",
       "origId": 0,
       "parentHierarchy": [],
       "pivotAggregation": null,
       "pivotColumns": null,
       "position": 16.0,
       "resultDbfsErrorMessage": null,
       "resultDbfsStatus": "INLINED_IN_TREE",
       "results": null,
       "showCommandTitle": false,
       "startTime": 0,
       "state": "input",
       "streamStates": {},
       "subcommandOptions": {
        "queryPlan": {
         "groups": [
          {
           "column": "dia_sem_ocu",
           "type": "column"
          }
         ],
         "selects": [
          {
           "column": "dia_sem_ocu",
           "type": "column"
          },
          {
           "alias": "column_95cd6283250",
           "args": [
            {
             "column": "count",
             "type": "column"
            }
           ],
           "function": "SUM",
           "type": "function"
          }
         ]
        }
       },
       "submitTime": 0,
       "subtype": "tableResultSubCmd.visualization",
       "tableResultIndex": 0,
       "tableResultSettingsMap": {},
       "useConsistentColors": false,
       "version": "CommandV1",
       "width": "auto",
       "workflows": null,
       "xColumns": null,
       "yColumns": null
      }
     },
     "output_type": "display_data"
    }
   ],
   "source": [
    "df_2023 = df_fallecidos.filter(df_fallecidos.anio_ocu == \"2023\")\n",
    "\n",
    "# Agrupar por día de la semana y contar accidentes\n",
    "accidentes_por_dia = df_2023.groupBy(\"dia_sem_ocu\").count()\n",
    "\n",
    "# Mostrar el resultado como tabla\n",
    "accidentes_por_dia.show()\n",
    "\n",
    "# En Databricks, usar display para graficar\n",
    "display(accidentes_por_dia)\n"
   ]
  },
  {
   "cell_type": "markdown",
   "metadata": {
    "application/vnd.databricks.v1+cell": {
     "cellMetadata": {
      "byteLimit": 2048000,
      "rowLimit": 10000
     },
     "inputWidgets": {},
     "nuid": "b286629b-bb12-4d4b-ad1c-96879567d258",
     "showTitle": false,
     "tableResultSettingsMap": {},
     "title": ""
    }
   },
   "source": [
    "En 2023 el dia que muestra mas accidentes es el dia domingo"
   ]
  },
  {
   "cell_type": "markdown",
   "metadata": {
    "application/vnd.databricks.v1+cell": {
     "cellMetadata": {
      "byteLimit": 2048000,
      "rowLimit": 10000
     },
     "inputWidgets": {},
     "nuid": "00a5278e-9345-403d-b4c6-0cff070a7d20",
     "showTitle": false,
     "tableResultSettingsMap": {},
     "title": ""
    }
   },
   "source": [
    "###  7. Mostrar la distribución de accidentes por hora del día en el municipio de Guatemala. Graficar en un histograma. "
   ]
  },
  {
   "cell_type": "code",
   "execution_count": 0,
   "metadata": {
    "application/vnd.databricks.v1+cell": {
     "cellMetadata": {
      "byteLimit": 2048000,
      "rowLimit": 10000
     },
     "inputWidgets": {},
     "nuid": "e514f0e9-fc89-4c5e-b0b4-854ccc680dfc",
     "showTitle": false,
     "tableResultSettingsMap": {},
     "title": ""
    }
   },
   "outputs": [
    {
     "output_type": "display_data",
     "data": {
      "text/plain": [
       "Databricks visualization. Run in Databricks to view."
      ]
     },
     "metadata": {
      "application/vnd.databricks.v1.subcommand+json": {
       "baseErrorDetails": null,
       "bindings": {},
       "collapsed": false,
       "command": "%python\n__backend_agg_display_orig = display\n__backend_agg_dfs = []\ndef __backend_agg_display_new(df):\n    __backend_agg_df_modules = [\"pandas.core.frame\", \"databricks.koalas.frame\", \"pyspark.sql.dataframe\", \"pyspark.pandas.frame\", \"pyspark.sql.connect.dataframe\"]\n    if (type(df).__module__ in __backend_agg_df_modules and type(df).__name__ == 'DataFrame') or isinstance(df, list):\n        __backend_agg_dfs.append(df)\n\ndisplay = __backend_agg_display_new\n\ndef __backend_agg_user_code_fn():\n    import base64\n    exec(base64.standard_b64decode(\"ZnJvbSBweXNwYXJrLnNxbC5mdW5jdGlvbnMgaW1wb3J0IGNvbAojIEZpbHRyYXIgc29sbyByZWdpc3Ryb3MgZGVsIG11bmljaXBpbyBkZSBHdWF0ZW1hbGEgeSBleGNsdWlyIGhvcmEgPSA5OQpkZl9ndWF0ZW1hbGEgPSBkZl9oZWNob3MuZmlsdGVyKChjb2woImRlcHRvX29jdSIpID09ICJHdWF0ZW1hbGEiKSAmIChjb2woImhvcmFfb2N1IikgIT0gOTkpKQoKIyBBc2VndXJhcnNlIGRlIHF1ZSBsYSBob3JhIHNlYSBudW3DqXJpY2EKZGZfZ3VhdGVtYWxhID0gZGZfZ3VhdGVtYWxhLndpdGhDb2x1bW4oImhvcmFfb2N1IiwgY29sKCJob3JhX29jdSIpLmNhc3QoImludCIpKQoKIyBBZ3J1cGFyIHBvciBob3JhIHkgY29udGFyIGFjY2lkZW50ZXMKYWNjaWRlbnRlc19wb3JfaG9yYSA9IGRmX2d1YXRlbWFsYS5ncm91cEJ5KCJob3JhX29jdSIpLmNvdW50KCkub3JkZXJCeSgiaG9yYV9vY3UiKQoKIyBNb3N0cmFyIHJlc3VsdGFkb3MKZGlzcGxheShhY2NpZGVudGVzX3Bvcl9ob3JhKQ==\").decode())\n\ntry:\n    # run user code\n    __backend_agg_user_code_fn()\n\n    #reset display function\n    display = __backend_agg_display_orig\n\n    if len(__backend_agg_dfs) > 0:\n        # create a temp view\n        if type(__backend_agg_dfs[0]).__module__ == \"databricks.koalas.frame\":\n            # koalas dataframe\n            __backend_agg_dfs[0].to_spark().createOrReplaceTempView(\"DatabricksView1a1c544\")\n        elif type(__backend_agg_dfs[0]).__module__ == \"pandas.core.frame\" or isinstance(__backend_agg_dfs[0], list):\n            # pandas dataframe\n            spark.createDataFrame(__backend_agg_dfs[0]).createOrReplaceTempView(\"DatabricksView1a1c544\")\n        else:\n            __backend_agg_dfs[0].createOrReplaceTempView(\"DatabricksView1a1c544\")\n        #run backend agg\n        display(spark.sql(\"\"\"WITH q AS (select * from DatabricksView1a1c544) ,min_max AS (SELECT `hora_ocu`,(SELECT MAX(`hora_ocu`) FROM q) `target_column_max`,(SELECT MIN(`hora_ocu`) FROM q) `target_column_min` FROM q) ,histogram_meta AS (SELECT `hora_ocu`,`target_column_min` `min_value`,IF(`target_column_max` = `target_column_min`,`target_column_max` + 1,`target_column_max`) `max_value`,(`target_column_max` - `target_column_min`) / 10 `step` FROM min_max) SELECT IF(ISNULL(`hora_ocu`),NULL,LEAST(WIDTH_BUCKET(`hora_ocu`,`min_value`,`max_value`,10),10)) `hora_ocu_BIN`,FIRST(`min_value` + ((IF(ISNULL(`hora_ocu`),NULL,LEAST(WIDTH_BUCKET(`hora_ocu`,`min_value`,`max_value`,10),10)) - 1) * `step`)) `hora_ocu_BIN_LOWER_BOUND`,FIRST(`step`) `hora_ocu_BIN_STEP`,COUNT(`hora_ocu`) `COUNT` FROM histogram_meta GROUP BY `hora_ocu_BIN`\"\"\"))\n    else:\n        displayHTML(\"dataframe no longer exists. If you're using dataframe.display(), use display(dataframe) instead.\")\n\n\nfinally:\n    spark.sql(\"drop view if exists DatabricksView1a1c544\")\n    display = __backend_agg_display_orig\n    del __backend_agg_display_new\n    del __backend_agg_display_orig\n    del __backend_agg_dfs\n    del __backend_agg_user_code_fn\n\n",
       "commandTitle": "Visualization 1",
       "commandType": "auto",
       "commandVersion": 0,
       "commentThread": [],
       "commentsVisible": false,
       "contentSha256Hex": null,
       "customPlotOptions": {
        "redashChart": [
         {
          "key": "type",
          "value": "CHART"
         },
         {
          "key": "options",
          "value": {
           "alignYAxesAtZero": true,
           "coefficient": 1,
           "columnConfigurationMap": {
            "x": {
             "column": "hora_ocu",
             "id": "column_b4b4024b379"
            }
           },
           "dateTimeFormat": "DD/MM/YYYY HH:mm",
           "direction": {
            "type": "counterclockwise"
           },
           "error_y": {
            "type": "data",
            "visible": true
           },
           "globalSeriesType": "histogram",
           "isAggregationOn": true,
           "legend": {
            "traceorder": "normal"
           },
           "missingValuesAsZero": true,
           "numBins": 10,
           "numberFormat": "0,0.[00000]",
           "percentFormat": "0[.]00%",
           "series": {
            "error_y": {
             "type": "data",
             "visible": true
            },
            "stacking": null
           },
           "seriesOptions": {
            "column_95cd6283255": {
             "name": "count",
             "type": "histogram",
             "yAxis": 0
            }
           },
           "showDataLabels": false,
           "sizemode": "diameter",
           "sortX": true,
           "sortY": true,
           "swappedAxes": false,
           "textFormat": "",
           "useAggregationsUi": true,
           "valuesOptions": {},
           "version": 2,
           "xAxis": {
            "labels": {
             "enabled": true
            },
            "type": "-"
           },
           "yAxis": [
            {
             "type": "-"
            },
            {
             "opposite": true,
             "type": "-"
            }
           ]
          }
         }
        ]
       },
       "datasetPreviewNameToCmdIdMap": {},
       "diffDeletes": [],
       "diffInserts": [],
       "displayType": "redashChart",
       "error": null,
       "errorDetails": null,
       "errorSummary": null,
       "errorTraceType": null,
       "finishTime": 0,
       "globalVars": {},
       "guid": "",
       "height": "auto",
       "hideCommandCode": false,
       "hideCommandResult": false,
       "iPythonMetadata": null,
       "inputWidgets": {},
       "isLockedInExamMode": false,
       "latestAssumeRoleInfo": null,
       "latestUser": "a user",
       "latestUserId": null,
       "listResultMetadata": null,
       "metadata": {
        "byteLimit": 2048000,
        "rowLimit": 10000
       },
       "nuid": "0a20531f-e580-4904-a9f0-a38d17eef1f8",
       "origId": 0,
       "parentHierarchy": [],
       "pivotAggregation": null,
       "pivotColumns": null,
       "position": 19.0,
       "resultDbfsErrorMessage": null,
       "resultDbfsStatus": "INLINED_IN_TREE",
       "results": null,
       "showCommandTitle": false,
       "startTime": 0,
       "state": "input",
       "streamStates": {},
       "subcommandOptions": {
        "queryPlan": {
         "groups": [
          {
           "column": "hora_ocu_BIN",
           "type": "column"
          }
         ],
         "selects": [
          {
           "alias": "hora_ocu_BIN",
           "args": [
            {
             "column": "hora_ocu",
             "type": "column"
            },
            {
             "number": 10,
             "type": "number"
            }
           ],
           "function": "BIN",
           "type": "function"
          },
          {
           "alias": "hora_ocu_BIN_LOWER_BOUND",
           "args": [
            {
             "column": "hora_ocu",
             "type": "column"
            },
            {
             "number": 10,
             "type": "number"
            }
           ],
           "function": "BIN_LOWER_BOUND",
           "type": "function"
          },
          {
           "alias": "hora_ocu_BIN_STEP",
           "args": [
            {
             "column": "hora_ocu",
             "type": "column"
            },
            {
             "number": 10,
             "type": "number"
            }
           ],
           "function": "BIN_STEP",
           "type": "function"
          },
          {
           "alias": "COUNT",
           "args": [
            {
             "column": "hora_ocu",
             "type": "column"
            }
           ],
           "function": "COUNT",
           "type": "function"
          }
         ]
        }
       },
       "submitTime": 0,
       "subtype": "tableResultSubCmd.visualization",
       "tableResultIndex": 0,
       "tableResultSettingsMap": {},
       "useConsistentColors": false,
       "version": "CommandV1",
       "width": "auto",
       "workflows": null,
       "xColumns": null,
       "yColumns": null
      }
     },
     "output_type": "display_data"
    }
   ],
   "source": [
    "from pyspark.sql.functions import col\n",
    "# Filtrar solo registros del municipio de Guatemala y excluir hora = 99\n",
    "df_guatemala = df_hechos.filter((col(\"depto_ocu\") == \"Guatemala\") & (col(\"hora_ocu\") != 99))\n",
    "\n",
    "# Asegurarse de que la hora sea numérica\n",
    "df_guatemala = df_guatemala.withColumn(\"hora_ocu\", col(\"hora_ocu\").cast(\"int\"))\n",
    "\n",
    "# Agrupar por hora y contar accidentes\n",
    "accidentes_por_hora = df_guatemala.groupBy(\"hora_ocu\").count().orderBy(\"hora_ocu\")\n",
    "\n",
    "# Mostrar resultados\n",
    "display(accidentes_por_hora)"
   ]
  },
  {
   "cell_type": "markdown",
   "metadata": {
    "application/vnd.databricks.v1+cell": {
     "cellMetadata": {
      "byteLimit": 2048000,
      "rowLimit": 10000
     },
     "inputWidgets": {},
     "nuid": "88cb3f31-01fb-451d-9995-31b0464a4567",
     "showTitle": false,
     "tableResultSettingsMap": {},
     "title": ""
    }
   },
   "source": [
    "### 8. Unir la tabla de hechos de tránsito con la de vehículos usando una llave compuesta por año, mes, departamento y tipo de accidente. ¿Cuántos registros combinados se logran?"
   ]
  },
  {
   "cell_type": "code",
   "execution_count": 0,
   "metadata": {
    "application/vnd.databricks.v1+cell": {
     "cellMetadata": {
      "byteLimit": 2048000,
      "rowLimit": 10000
     },
     "inputWidgets": {},
     "nuid": "c377803e-e869-409a-8397-2b2613166633",
     "showTitle": false,
     "tableResultSettingsMap": {},
     "title": ""
    }
   },
   "outputs": [],
   "source": [
    "# Realizar la unión usando la llave compuesta\n",
    "df_combinado = df_hechos.join(\n",
    "    df_vehiculos,\n",
    "    on=[\n",
    "        \"anio_ocu\",\n",
    "        \"mes_ocu\",\n",
    "        \"depto_ocu\",\n",
    "        \"tipo_eve\"\n",
    "    ],\n",
    "    how=\"left\" \n",
    ")\n",
    "\n",
    "# Contar cuántos registros combinados se logran\n",
    "total_registros = df_combinado.count()\n",
    "print(f\"Total de registros combinados: {total_registros}\")\n",
    "display(df_combinado)\n"
   ]
  },
  {
   "cell_type": "markdown",
   "metadata": {
    "application/vnd.databricks.v1+cell": {
     "cellMetadata": {
      "byteLimit": 2048000,
      "rowLimit": 10000
     },
     "inputWidgets": {},
     "nuid": "b56fe512-30d7-4d07-ac94-6255e7c1d520",
     "showTitle": false,
     "tableResultSettingsMap": {},
     "title": ""
    }
   },
   "source": [
    "### 9.  De la unión anterior, calcular el promedio de vehículos por accidente en cada departamento. Guardar este resultado en formato Parquet. Luego, vuelva a cargarlo y grafique los 10 departamentos con más vehículos/accidente."
   ]
  },
  {
   "cell_type": "code",
   "execution_count": 0,
   "metadata": {
    "application/vnd.databricks.v1+cell": {
     "cellMetadata": {
      "byteLimit": 2048000,
      "rowLimit": 10000
     },
     "inputWidgets": {},
     "nuid": "379a2fbe-8873-42cf-84c8-09bdb831439d",
     "showTitle": false,
     "tableResultSettingsMap": {},
     "title": ""
    }
   },
   "outputs": [
    {
     "output_type": "display_data",
     "data": {
      "text/plain": [
       "Databricks visualization. Run in Databricks to view."
      ]
     },
     "metadata": {
      "application/vnd.databricks.v1.subcommand+json": {
       "baseErrorDetails": null,
       "bindings": {},
       "collapsed": false,
       "command": "%python\n__backend_agg_display_orig = display\n__backend_agg_dfs = []\ndef __backend_agg_display_new(df):\n    __backend_agg_df_modules = [\"pandas.core.frame\", \"databricks.koalas.frame\", \"pyspark.sql.dataframe\", \"pyspark.pandas.frame\", \"pyspark.sql.connect.dataframe\"]\n    if (type(df).__module__ in __backend_agg_df_modules and type(df).__name__ == 'DataFrame') or isinstance(df, list):\n        __backend_agg_dfs.append(df)\n\ndisplay = __backend_agg_display_new\n\ndef __backend_agg_user_code_fn():\n    import base64\n    exec(base64.standard_b64decode(\"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\").decode())\n\ntry:\n    # run user code\n    __backend_agg_user_code_fn()\n\n    #reset display function\n    display = __backend_agg_display_orig\n\n    if len(__backend_agg_dfs) > 0:\n        # create a temp view\n        if type(__backend_agg_dfs[0]).__module__ == \"databricks.koalas.frame\":\n            # koalas dataframe\n            __backend_agg_dfs[0].to_spark().createOrReplaceTempView(\"DatabricksViewe46d33d\")\n        elif type(__backend_agg_dfs[0]).__module__ == \"pandas.core.frame\" or isinstance(__backend_agg_dfs[0], list):\n            # pandas dataframe\n            spark.createDataFrame(__backend_agg_dfs[0]).createOrReplaceTempView(\"DatabricksViewe46d33d\")\n        else:\n            __backend_agg_dfs[0].createOrReplaceTempView(\"DatabricksViewe46d33d\")\n        #run backend agg\n        display(spark.sql(\"\"\"WITH q AS (select * from DatabricksViewe46d33d) SELECT `depto_ocu`,SUM(`total_vehiculos`) `column_155967ef473` FROM q GROUP BY `depto_ocu`\"\"\"))\n    else:\n        displayHTML(\"dataframe no longer exists. If you're using dataframe.display(), use display(dataframe) instead.\")\n\n\nfinally:\n    spark.sql(\"drop view if exists DatabricksViewe46d33d\")\n    display = __backend_agg_display_orig\n    del __backend_agg_display_new\n    del __backend_agg_display_orig\n    del __backend_agg_dfs\n    del __backend_agg_user_code_fn\n\n",
       "commandTitle": "Visualization 1",
       "commandType": "auto",
       "commandVersion": 0,
       "commentThread": [],
       "commentsVisible": false,
       "contentSha256Hex": null,
       "customPlotOptions": {
        "redashChart": [
         {
          "key": "type",
          "value": "CHART"
         },
         {
          "key": "options",
          "value": {
           "alignYAxesAtZero": true,
           "coefficient": 1,
           "columnConfigurationMap": {
            "x": {
             "column": "depto_ocu",
             "id": "column_155967ef471"
            },
            "y": [
             {
              "column": "total_vehiculos",
              "id": "column_155967ef473",
              "transform": "SUM"
             }
            ]
           },
           "dateTimeFormat": "DD/MM/YYYY HH:mm",
           "direction": {
            "type": "counterclockwise"
           },
           "error_y": {
            "type": "data",
            "visible": true
           },
           "globalSeriesType": "column",
           "isAggregationOn": true,
           "legend": {
            "traceorder": "normal"
           },
           "missingValuesAsZero": true,
           "numberFormat": "0,0.[00000]",
           "percentFormat": "0[.]00%",
           "series": {
            "error_y": {
             "type": "data",
             "visible": true
            },
            "stacking": null
           },
           "seriesOptions": {
            "column_155967ef473": {
             "name": "Vehiculos",
             "type": "column",
             "yAxis": 0
            }
           },
           "showDataLabels": false,
           "sizemode": "diameter",
           "sortX": true,
           "sortY": true,
           "swappedAxes": true,
           "textFormat": "",
           "useAggregationsUi": true,
           "valuesOptions": {},
           "version": 2,
           "xAxis": {
            "labels": {
             "enabled": true
            },
            "title": {
             "text": "Departamentos"
            },
            "type": "-"
           },
           "yAxis": [
            {
             "type": "-"
            },
            {
             "opposite": true,
             "type": "-"
            }
           ]
          }
         }
        ]
       },
       "datasetPreviewNameToCmdIdMap": {},
       "diffDeletes": [],
       "diffInserts": [],
       "displayType": "redashChart",
       "error": null,
       "errorDetails": null,
       "errorSummary": null,
       "errorTraceType": null,
       "finishTime": 0,
       "globalVars": {},
       "guid": "",
       "height": "auto",
       "hideCommandCode": false,
       "hideCommandResult": false,
       "iPythonMetadata": null,
       "inputWidgets": {},
       "isLockedInExamMode": false,
       "latestAssumeRoleInfo": null,
       "latestUser": "a user",
       "latestUserId": null,
       "listResultMetadata": null,
       "metadata": {},
       "nuid": "30d75bbb-da5f-4443-8153-94bcb02c76a4",
       "origId": 0,
       "parentHierarchy": [],
       "pivotAggregation": null,
       "pivotColumns": null,
       "position": 52.0,
       "resultDbfsErrorMessage": null,
       "resultDbfsStatus": "INLINED_IN_TREE",
       "results": null,
       "showCommandTitle": false,
       "startTime": 0,
       "state": "input",
       "streamStates": {},
       "subcommandOptions": {
        "queryPlan": {
         "groups": [
          {
           "column": "depto_ocu",
           "type": "column"
          }
         ],
         "selects": [
          {
           "column": "depto_ocu",
           "type": "column"
          },
          {
           "alias": "column_155967ef473",
           "args": [
            {
             "column": "total_vehiculos",
             "type": "column"
            }
           ],
           "function": "SUM",
           "type": "function"
          }
         ]
        }
       },
       "submitTime": 0,
       "subtype": "tableResultSubCmd.visualization",
       "tableResultIndex": 0,
       "tableResultSettingsMap": {},
       "useConsistentColors": false,
       "version": "CommandV1",
       "width": "auto",
       "workflows": null,
       "xColumns": null,
       "yColumns": null
      }
     },
     "output_type": "display_data"
    }
   ],
   "source": [
    "import matplotlib.pyplot as plt\n",
    "\n",
    "# Calcular accidentes por departamento\n",
    "accidentes_por_depto = (\n",
    "    df_combinado\n",
    "    .select(\"depto_ocu\", \"anio_ocu\", \"mes_ocu\", \"tipo_eve\")\n",
    "    .distinct()  # cada combinación representa un accidente único\n",
    "    .groupBy(\"depto_ocu\")\n",
    "    .agg(F.count(\"*\").alias(\"total_accidentes\"))\n",
    ")\n",
    "\n",
    "# Calcular vehículos por departamento\n",
    "vehiculos_por_depto = (\n",
    "    df_combinado\n",
    "    .groupBy(\"depto_ocu\")\n",
    "    .agg(F.count(\"*\").alias(\"total_vehiculos\"))\n",
    ")\n",
    "\n",
    "# Calcular promedio de vehículos por accidente\n",
    "promedio_por_depto = (\n",
    "    vehiculos_por_depto.join(accidentes_por_depto, on=\"depto_ocu\", how=\"inner\")\n",
    "    .withColumn(\"promedio_vehiculos_por_accidente\",\n",
    "                F.col(\"total_vehiculos\") / F.col(\"total_accidentes\"))\n",
    ")\n",
    "\n",
    "#  Guardar resultado en formato Parquet\n",
    "ruta_salida = \"/Volumes/workspace/default/data_lab8/data lab8/resultados/promedio_vehiculos_por_accidente.parquet\"\n",
    "promedio_por_depto.write.mode(\"overwrite\").parquet(ruta_salida)\n",
    "\n",
    "df_resultado = spark.read.parquet(ruta_salida)\n",
    "\n",
    "# Mostrar los 10 departamentos con mayor promedio\n",
    "display(df_resultado.orderBy(F.desc(\"promedio_vehiculos_por_accidente\")).limit(10))\n",
    "\n",
    "top10 = (\n",
    "    df_resultado.orderBy(F.desc(\"promedio_vehiculos_por_accidente\"))\n",
    "    .limit(10)\n",
    "    .toPandas()\n",
    ")\n",
    "\n",
    "plt.figure(figsize=(10,6))\n",
    "plt.barh(top10[\"depto_ocu\"], top10[\"promedio_vehiculos_por_accidente\"])\n",
    "plt.xlabel(\"Promedio de vehículos por accidente\")\n",
    "plt.ylabel(\"Departamento\")\n",
    "plt.title(\"Top 10 departamentos con más vehículos \\ accidente\")\n",
    "plt.gca().invert_yaxis()  # para que el más alto quede arriba\n",
    "plt.tight_layout()\n",
    "plt.show()\n"
   ]
  },
  {
   "cell_type": "markdown",
   "metadata": {
    "application/vnd.databricks.v1+cell": {
     "cellMetadata": {
      "byteLimit": 2048000,
      "rowLimit": 10000
     },
     "inputWidgets": {},
     "nuid": "84851fef-af45-4b08-9800-a04f341d4854",
     "showTitle": false,
     "tableResultSettingsMap": {},
     "title": ""
    }
   },
   "source": [
    "### 10.  Encontrar el top 5 de colores de vehículos más involucrados en accidentes. "
   ]
  },
  {
   "cell_type": "code",
   "execution_count": 0,
   "metadata": {
    "application/vnd.databricks.v1+cell": {
     "cellMetadata": {
      "byteLimit": 2048000,
      "rowLimit": 10000
     },
     "inputWidgets": {},
     "nuid": "51fd1f43-05fa-47a9-9954-2bf6eb8038a9",
     "showTitle": false,
     "tableResultSettingsMap": {},
     "title": ""
    }
   },
   "outputs": [],
   "source": [
    "\n",
    "df_colores_validos = df_vehiculos.filter(\n",
    "    (F.col(\"color_veh\").isNotNull()) &\n",
    "    (F.lower(F.col(\"color_veh\")) != \"ignorado\")\n",
    ")\n",
    "\n",
    "top_colores = (\n",
    "    df_colores_validos\n",
    "    .groupBy(\"color_veh\")\n",
    "    .agg(F.count(\"*\").alias(\"total_accidentes\"))\n",
    "    .orderBy(F.desc(\"total_accidentes\"))\n",
    "    .limit(5)\n",
    ")\n",
    "\n",
    "top_colores.show()\n",
    "\n",
    "top_colores_pd = top_colores.toPandas()\n",
    "\n",
    "plt.figure(figsize=(8,5))\n",
    "plt.barh(top_colores_pd[\"color_veh\"], top_colores_pd[\"total_accidentes\"], color='steelblue')\n",
    "plt.xlabel(\"Número de vehículos involucrados\")\n",
    "plt.ylabel(\"Color del vehículo\")\n",
    "plt.title(\"Top 5 colores de vehículos más involucrados en accidentes (excluyendo 'Ignorado')\")\n",
    "plt.gca().invert_yaxis()\n",
    "plt.tight_layout()\n",
    "plt.show()\n"
   ]
  },
  {
   "cell_type": "markdown",
   "metadata": {
    "application/vnd.databricks.v1+cell": {
     "cellMetadata": {
      "byteLimit": 2048000,
      "rowLimit": 10000
     },
     "inputWidgets": {},
     "nuid": "513252cb-8924-4d7a-9d01-12354ad3f67f",
     "showTitle": false,
     "tableResultSettingsMap": {},
     "title": ""
    }
   },
   "source": [
    "### 11. Calcular cuántos lesionados por atropello hubo en 2024, por mes. Graficar en serie temporal (línea). \n"
   ]
  },
  {
   "cell_type": "code",
   "execution_count": 0,
   "metadata": {
    "application/vnd.databricks.v1+cell": {
     "cellMetadata": {
      "byteLimit": 2048000,
      "rowLimit": 10000
     },
     "inputWidgets": {},
     "nuid": "f7b5c008-ab16-4254-a3b0-b3894e857de0",
     "showTitle": false,
     "tableResultSettingsMap": {},
     "title": ""
    }
   },
   "outputs": [],
   "source": [
    "# NOTA: ya que se estan usando los datos de 2013 a 2023 por instrucciones\n",
    "# en vez de 2024, se usa 2023\n",
    "\n",
    "from pyspark.sql import functions as F\n",
    "import pyspark.pandas as ps\n",
    "\n",
    "lesionados_atropello_2023 = df_fallecidos.filter(\n",
    "    #(F.col(\"anio_ocu\") == 2023) \n",
    "    (F.col(\"tipo_eve\") == \"Atropello\") &\n",
    "    (F.col(\"fallecidos_lesionados\") == \"Lesionado\")\n",
    ").groupBy(\"mes_ocu\").agg(F.count(\"*\").alias(\"total_lesionados\")).orderBy(\"mes_ocu\")\n",
    "\n",
    "#lesionados_atropello_2024.show()\n",
    "#display(lesionados_atropello_2023)\n",
    "\n",
    "\n",
    "psdf = lesionados_atropello_2023.pandas_api()\n",
    "\n",
    "# graficar como serie temporal\n",
    "ax = psdf.plot(\n",
    "    x=\"mes_ocu\",\n",
    "    y=\"total_lesionados\",\n",
    "    kind=\"line\"\n",
    ")\n",
    "ax.update_layout(\n",
    "    title=\"Lesionados por atropello en 2023\",\n",
    "    xaxis_title=\"Mes\",\n",
    "    yaxis_title=\"Total de lesionados\",\n",
    "    width=1000,\n",
    "    height=600\n",
    ")\n"
   ]
  },
  {
   "cell_type": "markdown",
   "metadata": {
    "application/vnd.databricks.v1+cell": {
     "cellMetadata": {
      "byteLimit": 2048000,
      "rowLimit": 10000
     },
     "inputWidgets": {},
     "nuid": "64cea173-ec03-4388-8ff9-1c5adb2f7c66",
     "showTitle": false,
     "tableResultSettingsMap": {},
     "title": ""
    }
   },
   "source": [
    "### 12. Relacionar accidentes con fallecidos usando llaves (año, mes, departamento, tipo de accidente). Calcular el total de fallecidos por cada tipo de accidente. Graficar en barras horizontales."
   ]
  },
  {
   "cell_type": "code",
   "execution_count": 0,
   "metadata": {
    "application/vnd.databricks.v1+cell": {
     "cellMetadata": {
      "byteLimit": 2048000,
      "rowLimit": 10000
     },
     "inputWidgets": {},
     "nuid": "f5f33ef3-4109-4ca7-a24f-d62f92c04528",
     "showTitle": false,
     "tableResultSettingsMap": {},
     "title": ""
    }
   },
   "outputs": [],
   "source": [
    "from pyspark.sql import functions as F\n",
    "import pyspark.pandas as ps\n",
    "\n",
    "df_h_f = df_hechos.join(\n",
    "    df_fallecidos,\n",
    "    on=[\"anio_ocu\", \"mes_ocu\", \"depto_ocu\", \"tipo_eve\"],\n",
    "    how=\"inner\"\n",
    ")\n",
    "\n",
    "#display(df_h_f.columns)\n",
    "\n",
    "df_fallecidos_only = df_h_f.filter(\n",
    "    df_fallecidos[\"fallecidos_lesionados\"] == \"Fallecido\"\n",
    ")\n",
    "\n",
    "#display(df_fallecidos_only)\n",
    "\n",
    "total_fallecidos_tipo = df_fallecidos_only.groupBy(\"tipo_eve\").agg(F.count(\"*\").alias(\"total_fallecidos\")).orderBy(F.desc(\"total_fallecidos\"))\n",
    "\n",
    "total_fallecidos_tipo.show()\n",
    "\n",
    "\n",
    "psdf = total_fallecidos_tipo.pandas_api()\n",
    "psdf.plot.bar(x=\"tipo_eve\", y=\"total_fallecidos\")\n",
    "\n"
   ]
  },
  {
   "cell_type": "markdown",
   "metadata": {
    "application/vnd.databricks.v1+cell": {
     "cellMetadata": {
      "byteLimit": 2048000,
      "rowLimit": 10000
     },
     "inputWidgets": {},
     "nuid": "a8586673-9973-486c-a37d-ba12d445e5ba",
     "showTitle": false,
     "tableResultSettingsMap": {},
     "title": ""
    }
   },
   "source": [
    "### 13. Usar withColumn para clasificar accidentes en franjas horarias: Mañana [6-12), Tarde [12-18), Noche [18-24), Madrugada [0-6). Mostrar cuántos accidentes ocurren en cada franja. "
   ]
  },
  {
   "cell_type": "code",
   "execution_count": 0,
   "metadata": {
    "application/vnd.databricks.v1+cell": {
     "cellMetadata": {
      "byteLimit": 2048000,
      "rowLimit": 10000
     },
     "inputWidgets": {},
     "nuid": "7927937d-ba7d-4809-9720-a6072e2a12f8",
     "showTitle": false,
     "tableResultSettingsMap": {},
     "title": ""
    }
   },
   "outputs": [],
   "source": [
    "from pyspark.sql import functions as F\n",
    "\n",
    "df_franjas = df_hechos.withColumn(\n",
    "    \"franja_horaria\",\n",
    "    F.when((F.col(\"hora_ocu\") >= 6) & (F.col(\"hora_ocu\") < 12), \"Mañana\")\n",
    "     .when((F.col(\"hora_ocu\") >= 12) & (F.col(\"hora_ocu\") < 18), \"Tarde\")\n",
    "     .when((F.col(\"hora_ocu\") >= 18) & (F.col(\"hora_ocu\") < 24), \"Noche\")\n",
    "     .when((F.col(\"hora_ocu\") >= 0) & (F.col(\"hora_ocu\") < 6), \"Madrugada\")\n",
    "     .otherwise(\"Ignorado\")   # por si hay otro valor que no este en las franjas\n",
    ")\n",
    "\n",
    "#df_franjas.groupBy(\"franja_horaria\").count().show()\n",
    "accidentes_franja = df_franjas.groupBy(\"franja_horaria\").agg(F.count(\"*\").alias(\"total_accidentes\")).orderBy(F.desc(\"total_accidentes\"))\n",
    "#accidentes_franja.show()\n",
    "\n",
    "display(accidentes_franja)"
   ]
  },
  {
   "cell_type": "markdown",
   "metadata": {
    "application/vnd.databricks.v1+cell": {
     "cellMetadata": {
      "byteLimit": 2048000,
      "rowLimit": 10000
     },
     "inputWidgets": {},
     "nuid": "75e40886-07ea-4908-a65e-3f46833d55a5",
     "showTitle": false,
     "tableResultSettingsMap": {},
     "title": ""
    }
   },
   "source": [
    "### 14.  Calcular el ratio de fallecidos por accidente en cada departamento (fallecidos / accidentes). Guardar el resultado en Parquet. "
   ]
  },
  {
   "cell_type": "code",
   "execution_count": 0,
   "metadata": {
    "application/vnd.databricks.v1+cell": {
     "cellMetadata": {
      "byteLimit": 2048000,
      "rowLimit": 10000
     },
     "inputWidgets": {},
     "nuid": "22a13163-8d47-494d-9922-9aa1c890ca1a",
     "showTitle": false,
     "tableResultSettingsMap": {},
     "title": ""
    }
   },
   "outputs": [],
   "source": [
    "from pyspark.sql import functions as F\n",
    "\n",
    "output_path_ratio = \"/Volumes/workspace/default/data_lab8/ratio_fallecidos_accidente\"\n",
    "\n",
    "accidentes_depto = df_hechos.groupBy(\"depto_ocu\").agg(F.countDistinct(\"num_correlativo\").alias(\"total_accidentes\"))\n",
    "#display(accidentes_depto)\n",
    "\n",
    "fallecidos_depto = df_fallecidos.filter(F.col(\"fallecidos_lesionados\") == \"Fallecido\").groupBy(\"depto_ocu\").agg(F.count(\"*\").alias(\"total_fallecidos\"))\n",
    "#display(fallecidos_depto)\n",
    "\n",
    "ratio_depto = accidentes_depto.join(\n",
    "    fallecidos_depto,\n",
    "    on=\"depto_ocu\",\n",
    "    how=\"inner\"\n",
    ").withColumn(\n",
    "    \"ratio_fallecidos_accidente\",\n",
    "    (F.col(\"total_fallecidos\") / F.col(\"total_accidentes\"))\n",
    ")\n",
    "\n",
    "ratio_depto = ratio_depto.orderBy(F.desc(\"ratio_fallecidos_accidente\"))\n",
    "#ratio_depto.show()\n",
    "\n",
    "#guardar en parquet\n",
    "ratio_depto.write.mode(\"overwrite\").parquet(output_path_ratio)\n",
    "\n",
    "#cargarlo y ver los resultados\n",
    "df_ratio = spark.read.parquet(output_path_ratio)\n",
    "df_ratio.show()\n",
    "\n",
    "\n"
   ]
  },
  {
   "cell_type": "markdown",
   "metadata": {
    "application/vnd.databricks.v1+cell": {
     "cellMetadata": {
      "byteLimit": 2048000,
      "rowLimit": 10000
     },
     "inputWidgets": {},
     "nuid": "3c76e840-a6a8-441e-a305-27dd8a0f791e",
     "showTitle": false,
     "tableResultSettingsMap": {},
     "title": ""
    }
   },
   "source": [
    "### 15. Identificar los grupos de edad más afectados en fallecidos y lesionados. Graficar en barras que permitan comparar a ambos grupos.  "
   ]
  },
  {
   "cell_type": "code",
   "execution_count": 0,
   "metadata": {
    "application/vnd.databricks.v1+cell": {
     "cellMetadata": {
      "byteLimit": 2048000,
      "rowLimit": 10000
     },
     "inputWidgets": {},
     "nuid": "fc0ac6c0-591e-46f6-a0bd-c93e7af455cc",
     "showTitle": false,
     "tableResultSettingsMap": {},
     "title": ""
    }
   },
   "outputs": [],
   "source": [
    "mostrar_contenido(df_fallecidos)"
   ]
  },
  {
   "cell_type": "code",
   "execution_count": 0,
   "metadata": {
    "application/vnd.databricks.v1+cell": {
     "cellMetadata": {
      "byteLimit": 2048000,
      "rowLimit": 10000
     },
     "inputWidgets": {},
     "nuid": "861865de-c1fa-4184-aa4b-6fe7852274fa",
     "showTitle": false,
     "tableResultSettingsMap": {},
     "title": ""
    }
   },
   "outputs": [],
   "source": [
    "from pyspark.sql import functions as F, types as T\n",
    "\n",
    "ORDEN_GRUPOS = [\"0-14\",\"15-29\",\"30-44\",\"45-59\",\"60-65\",\"65+\", \"UNK\"]\n",
    "\n",
    "def to_int_col(col):\n",
    "    # Convierte a int cuando se puede\n",
    "    return F.when(F.col(col).cast(\"int\").isNotNull(), F.col(col).cast(\"int\")).otherwise(F.lit(None).cast(\"int\"))\n",
    "\n",
    "edad_per_num = F.expr(\"try_cast(edad_per as int)\")\n",
    "edad_vic_num = F.expr(\"try_cast(edad_vic as int)\")\n",
    "\n",
    "# Edad válida si está en rango razonable y no es algo como 999\n",
    "def edad_valida(col):\n",
    "    return F.when((col.isNotNull()) & (col >= 0) & (col <= 110), col)\n",
    "\n",
    "edad_final = F.coalesce(\n",
    "    edad_valida(edad_per_num),\n",
    "    edad_valida(edad_vic_num)\n",
    ")\n",
    "\n",
    "def grupo_desde_edad(col_edad):\n",
    "    return (\n",
    "        F.when((col_edad >= 0)  & (col_edad <= 14),   F.lit(\"0-14\"))\n",
    "         .when((col_edad >= 15)  & (col_edad <= 29),  F.lit(\"15-29\"))\n",
    "         .when((col_edad >= 30) & (col_edad <= 44),  F.lit(\"30-44\"))\n",
    "         .when((col_edad >= 45) & (col_edad <= 59),  F.lit(\"45-59\"))\n",
    "         .when((col_edad >= 60) & (col_edad <= 64),  F.lit(\"60-64\"))\n",
    "         .when((col_edad >= 65),                     F.lit(\"65+\"))\n",
    "         .otherwise(F.lit(\"UNK\"))\n",
    "    )\n",
    "\n",
    "df_edades = (\n",
    "    df_fallecidos\n",
    "    .withColumn(\"edad_final\", edad_final)\n",
    "    .withColumn(\"grupo_edad\", grupo_desde_edad(F.col(\"edad_final\")))\n",
    ")\n",
    "\n",
    "display(\n",
    "    df_edades\n",
    "    .select(\"fallecidos_lesionados\",\"edad_per\",\"edad_vic\",\"edad_final\",\"grupo_edad\")\n",
    "    .limit(20)\n",
    ")\n"
   ]
  },
  {
   "cell_type": "code",
   "execution_count": 0,
   "metadata": {
    "application/vnd.databricks.v1+cell": {
     "cellMetadata": {
      "byteLimit": 2048000,
      "rowLimit": 10000
     },
     "inputWidgets": {},
     "nuid": "cba83485-8bbf-463a-97f9-31ecb8784e66",
     "showTitle": false,
     "tableResultSettingsMap": {},
     "title": ""
    }
   },
   "outputs": [
    {
     "output_type": "display_data",
     "data": {
      "text/plain": [
       "Databricks visualization. Run in Databricks to view."
      ]
     },
     "metadata": {
      "application/vnd.databricks.v1.subcommand+json": {
       "baseErrorDetails": null,
       "bindings": {},
       "collapsed": false,
       "command": "%python\n__backend_agg_display_orig = display\n__backend_agg_dfs = []\ndef __backend_agg_display_new(df):\n    __backend_agg_df_modules = [\"pandas.core.frame\", \"databricks.koalas.frame\", \"pyspark.sql.dataframe\", \"pyspark.pandas.frame\", \"pyspark.sql.connect.dataframe\"]\n    if (type(df).__module__ in __backend_agg_df_modules and type(df).__name__ == 'DataFrame') or isinstance(df, list):\n        __backend_agg_dfs.append(df)\n\ndisplay = __backend_agg_display_new\n\ndef __backend_agg_user_code_fn():\n    import base64\n    exec(base64.standard_b64decode(\"dmFsaWRvcyA9IGRmX2VkYWRlcy5maWx0ZXIoRi5jb2woImZhbGxlY2lkb3NfbGVzaW9uYWRvcyIpLmlzaW4oIkZhbGxlY2lkbyIsIkxlc2lvbmFkbyIpKQoKY29tcGFyYXRpdm8gPSAoCiAgICB2YWxpZG9zCiAgICAuZ3JvdXBCeSgiZ3J1cG9fZWRhZCIsImZhbGxlY2lkb3NfbGVzaW9uYWRvcyIpCiAgICAuYWdnKEYuY291bnQoRi5saXQoMSkpLmFsaWFzKCJ0b3RhbCIpKQogICAgLndpdGhDb2x1bW5SZW5hbWVkKCJmYWxsZWNpZG9zX2xlc2lvbmFkb3MiLCJ0aXBvIikKKQoKb3JkZW5fZXhwciA9IEYud2hlbigKICAgIEYuY29sKCJncnVwb19lZGFkIikuaXNpbihPUkRFTl9HUlVQT1MpLAogICAgRi5hcnJheV9wb3NpdGlvbihGLmFycmF5KCpbRi5saXQoeCkgZm9yIHggaW4gT1JERU5fR1JVUE9TXSksIEYuY29sKCJncnVwb19lZGFkIikpCikub3RoZXJ3aXNlKEYubGl0KGxlbihPUkRFTl9HUlVQT1MpKzEpKQoKY29tcGFyYXRpdm8gPSBjb21wYXJhdGl2by53aXRoQ29sdW1uKCJvcmRlbiIsIG9yZGVuX2V4cHIpCgpjb21wYXJhdGl2b19maW5hbCA9ICgKICAgIGNvbXBhcmF0aXZvCiAgICAuZ3JvdXBCeSgiZ3J1cG9fZWRhZCIpCiAgICAucGl2b3QoInRpcG8iLCBbIkZhbGxlY2lkbyIsIkxlc2lvbmFkbyJdKQogICAgLmFnZyhGLnN1bSgidG90YWwiKSkKICAgIC5uYS5maWxsKDApCiAgICAud2l0aENvbHVtbigKICAgICAgICAib3JkZW4iLAogICAgICAgIEYud2hlbihGLmNvbCgiZ3J1cG9fZWRhZCIpLmlzaW4oT1JERU5fR1JVUE9TKSwKICAgICAgICAgICAgICAgRi5hcnJheV9wb3NpdGlvbihGLmFycmF5KCpbRi5saXQoeCkgZm9yIHggaW4gT1JERU5fR1JVUE9TXSksIEYuY29sKCJncnVwb19lZGFkIikpCiAgICAgICAgKS5vdGhlcndpc2UoRi5saXQobGVuKE9SREVOX0dSVVBPUykrMSkpCiAgICApCikKCmRpc3BsYXkoY29tcGFyYXRpdm9fZmluYWwub3JkZXJCeSgiZ3J1cG9fZWRhZCIpKQoK\").decode())\n\ntry:\n    # run user code\n    __backend_agg_user_code_fn()\n\n    #reset display function\n    display = __backend_agg_display_orig\n\n    if len(__backend_agg_dfs) > 0:\n        # create a temp view\n        if type(__backend_agg_dfs[0]).__module__ == \"databricks.koalas.frame\":\n            # koalas dataframe\n            __backend_agg_dfs[0].to_spark().createOrReplaceTempView(\"DatabricksView1c24d77\")\n        elif type(__backend_agg_dfs[0]).__module__ == \"pandas.core.frame\" or isinstance(__backend_agg_dfs[0], list):\n            # pandas dataframe\n            spark.createDataFrame(__backend_agg_dfs[0]).createOrReplaceTempView(\"DatabricksView1c24d77\")\n        else:\n            __backend_agg_dfs[0].createOrReplaceTempView(\"DatabricksView1c24d77\")\n        #run backend agg\n        display(spark.sql(\"\"\"WITH q AS (select * from DatabricksView1c24d77) SELECT `grupo_edad`,SUM(`Fallecido`) `column_155967ef434`,SUM(`Lesionado`) `column_155967ef437` FROM q GROUP BY `grupo_edad`\"\"\"))\n    else:\n        displayHTML(\"dataframe no longer exists. If you're using dataframe.display(), use display(dataframe) instead.\")\n\n\nfinally:\n    spark.sql(\"drop view if exists DatabricksView1c24d77\")\n    display = __backend_agg_display_orig\n    del __backend_agg_display_new\n    del __backend_agg_display_orig\n    del __backend_agg_dfs\n    del __backend_agg_user_code_fn\n\n",
       "commandTitle": "Visualization 1",
       "commandType": "auto",
       "commandVersion": 0,
       "commentThread": [],
       "commentsVisible": false,
       "contentSha256Hex": null,
       "customPlotOptions": {
        "redashChart": [
         {
          "key": "type",
          "value": "CHART"
         },
         {
          "key": "options",
          "value": {
           "alignYAxesAtZero": true,
           "coefficient": 1,
           "columnConfigurationMap": {
            "x": {
             "column": "grupo_edad",
             "id": "column_155967ef432"
            },
            "y": [
             {
              "column": "Fallecido",
              "id": "column_155967ef434",
              "transform": "SUM"
             },
             {
              "column": "Lesionado",
              "id": "column_155967ef437",
              "transform": "SUM"
             }
            ]
           },
           "dateTimeFormat": "DD/MM/YYYY HH:mm",
           "direction": {
            "type": "counterclockwise"
           },
           "error_y": {
            "type": "data",
            "visible": true
           },
           "globalSeriesType": "column",
           "hideYAxes": false,
           "isAggregationOn": true,
           "legend": {
            "traceorder": "normal"
           },
           "missingValuesAsZero": true,
           "numberFormat": "0,0.[00000]",
           "percentFormat": "0[.]00%",
           "series": {
            "error_y": {
             "type": "data",
             "visible": true
            },
            "stacking": null
           },
           "seriesOptions": {
            "column_155967ef434": {
             "name": "Fallecidos",
             "type": "column",
             "yAxis": 0
            },
            "column_155967ef437": {
             "name": "Lesionados",
             "type": "column",
             "yAxis": 0
            }
           },
           "showDataLabels": false,
           "sizemode": "diameter",
           "sortX": true,
           "sortY": true,
           "swappedAxes": false,
           "textFormat": "",
           "useAggregationsUi": true,
           "valuesOptions": {},
           "version": 2,
           "xAxis": {
            "labels": {
             "enabled": true
            },
            "type": "-"
           },
           "yAxis": [
            {
             "title": {
              "text": "Quantity"
             },
             "type": "-"
            },
            {
             "opposite": true,
             "type": "-"
            }
           ]
          }
         }
        ]
       },
       "datasetPreviewNameToCmdIdMap": {},
       "diffDeletes": [],
       "diffInserts": [],
       "displayType": "redashChart",
       "error": null,
       "errorDetails": null,
       "errorSummary": null,
       "errorTraceType": null,
       "finishTime": 0,
       "globalVars": {},
       "guid": "",
       "height": "auto",
       "hideCommandCode": false,
       "hideCommandResult": false,
       "iPythonMetadata": null,
       "inputWidgets": {},
       "isLockedInExamMode": false,
       "latestAssumeRoleInfo": null,
       "latestUser": "a user",
       "latestUserId": null,
       "listResultMetadata": null,
       "metadata": {},
       "nuid": "8df4e5cd-b3ea-4a0c-bcd7-9dfee4eab731",
       "origId": 0,
       "parentHierarchy": [],
       "pivotAggregation": null,
       "pivotColumns": null,
       "position": 64.5,
       "resultDbfsErrorMessage": null,
       "resultDbfsStatus": "INLINED_IN_TREE",
       "results": null,
       "showCommandTitle": false,
       "startTime": 0,
       "state": "input",
       "streamStates": {},
       "subcommandOptions": {
        "queryPlan": {
         "groups": [
          {
           "column": "grupo_edad",
           "type": "column"
          }
         ],
         "selects": [
          {
           "column": "grupo_edad",
           "type": "column"
          },
          {
           "alias": "column_155967ef434",
           "args": [
            {
             "column": "Fallecido",
             "type": "column"
            }
           ],
           "function": "SUM",
           "type": "function"
          },
          {
           "alias": "column_155967ef437",
           "args": [
            {
             "column": "Lesionado",
             "type": "column"
            }
           ],
           "function": "SUM",
           "type": "function"
          }
         ]
        }
       },
       "submitTime": 0,
       "subtype": "tableResultSubCmd.visualization",
       "tableResultIndex": 0,
       "tableResultSettingsMap": {},
       "useConsistentColors": false,
       "version": "CommandV1",
       "width": "auto",
       "workflows": null,
       "xColumns": null,
       "yColumns": null
      }
     },
     "output_type": "display_data"
    }
   ],
   "source": [
    "validos = df_edades.filter(F.col(\"fallecidos_lesionados\").isin(\"Fallecido\",\"Lesionado\"))\n",
    "\n",
    "comparativo = (\n",
    "    validos\n",
    "    .groupBy(\"grupo_edad\",\"fallecidos_lesionados\")\n",
    "    .agg(F.count(F.lit(1)).alias(\"total\"))\n",
    "    .withColumnRenamed(\"fallecidos_lesionados\",\"tipo\")\n",
    ")\n",
    "\n",
    "orden_expr = F.when(\n",
    "    F.col(\"grupo_edad\").isin(ORDEN_GRUPOS),\n",
    "    F.array_position(F.array(*[F.lit(x) for x in ORDEN_GRUPOS]), F.col(\"grupo_edad\"))\n",
    ").otherwise(F.lit(len(ORDEN_GRUPOS)+1))\n",
    "\n",
    "comparativo = comparativo.withColumn(\"orden\", orden_expr)\n",
    "\n",
    "comparativo_final = (\n",
    "    comparativo\n",
    "    .groupBy(\"grupo_edad\")\n",
    "    .pivot(\"tipo\", [\"Fallecido\",\"Lesionado\"])\n",
    "    .agg(F.sum(\"total\"))\n",
    "    .na.fill(0)\n",
    "    .withColumn(\n",
    "        \"orden\",\n",
    "        F.when(F.col(\"grupo_edad\").isin(ORDEN_GRUPOS),\n",
    "               F.array_position(F.array(*[F.lit(x) for x in ORDEN_GRUPOS]), F.col(\"grupo_edad\"))\n",
    "        ).otherwise(F.lit(len(ORDEN_GRUPOS)+1))\n",
    "    )\n",
    ")\n",
    "\n",
    "display(comparativo_final.orderBy(\"grupo_edad\"))\n",
    "\n"
   ]
  },
  {
   "cell_type": "code",
   "execution_count": 0,
   "metadata": {
    "application/vnd.databricks.v1+cell": {
     "cellMetadata": {
      "byteLimit": 2048000,
      "rowLimit": 10000
     },
     "inputWidgets": {},
     "nuid": "c5722d3e-3297-4063-94e3-e3e9216201bc",
     "showTitle": false,
     "tableResultSettingsMap": {},
     "title": ""
    }
   },
   "outputs": [],
   "source": [
    "import numpy as np\n",
    "\n",
    "comparativo_ordenado = comparativo_final.orderBy(\"grupo_edad\")\n",
    "comp = comparativo_ordenado.select(\"grupo_edad\", \"Fallecido\", \"Lesionado\").toPandas()\n",
    "\n",
    "x = np.arange(len(comp[\"grupo_edad\"]))\n",
    "width = 0.38\n",
    "\n",
    "fig = plt.figure()\n",
    "plt.bar(x - width/2, comp[\"Fallecido\"], width, label=\"Fallecido\")\n",
    "plt.bar(x + width/2, comp[\"Lesionado\"], width, label=\"Lesionado\")\n",
    "plt.xticks(x, comp[\"grupo_edad\"])\n",
    "plt.xlabel(\"Total\")\n",
    "plt.title(\"Fallecidos vs Lesionados por grupo\")\n",
    "plt.legend()\n",
    "plt.show()"
   ]
  },
  {
   "cell_type": "markdown",
   "metadata": {
    "application/vnd.databricks.v1+cell": {
     "cellMetadata": {
      "byteLimit": 2048000,
      "rowLimit": 10000
     },
     "inputWidgets": {},
     "nuid": "131a9dc4-0aea-46fa-95a4-6e3983365222",
     "showTitle": false,
     "tableResultSettingsMap": {},
     "title": ""
    }
   },
   "source": [
    "### 16. Calcular, para el municipio de Guatemala, cuántos accidentes hay por zona y cuántos fallecidos se reportan en cada una. Generar un gráfico de barras con ambos indicadores. "
   ]
  },
  {
   "cell_type": "code",
   "execution_count": 0,
   "metadata": {
    "application/vnd.databricks.v1+cell": {
     "cellMetadata": {
      "byteLimit": 2048000,
      "rowLimit": 10000
     },
     "inputWidgets": {},
     "nuid": "0c3dcf6c-eee0-4215-ad70-506dd13d32f6",
     "showTitle": false,
     "tableResultSettingsMap": {},
     "title": ""
    }
   },
   "outputs": [
    {
     "output_type": "display_data",
     "data": {
      "text/plain": [
       "Databricks visualization. Run in Databricks to view."
      ]
     },
     "metadata": {
      "application/vnd.databricks.v1.subcommand+json": {
       "baseErrorDetails": null,
       "bindings": {},
       "collapsed": false,
       "command": "%python\n__backend_agg_display_orig = display\n__backend_agg_dfs = []\ndef __backend_agg_display_new(df):\n    __backend_agg_df_modules = [\"pandas.core.frame\", \"databricks.koalas.frame\", \"pyspark.sql.dataframe\", \"pyspark.pandas.frame\", \"pyspark.sql.connect.dataframe\"]\n    if (type(df).__module__ in __backend_agg_df_modules and type(df).__name__ == 'DataFrame') or isinstance(df, list):\n        __backend_agg_dfs.append(df)\n\ndisplay = __backend_agg_display_new\n\ndef __backend_agg_user_code_fn():\n    import base64\n    exec(base64.standard_b64decode(\"ZGZfZ3QgPSBkZl9mYWxsZWNpZG9zLmZpbHRlcihGLnVwcGVyKEYudHJpbShGLmNvbCgibXVwaW9fb2N1IikpKSA9PSBGLmxpdCgiR1VBVEVNQUxBIikpCgphY2NfcG9yX3pvbmEgPSAoCiAgICBkZl9ndAogICAgLmdyb3VwQnkoInpvbmFfb2N1IikKICAgIC5hZ2coRi5jb3VudERpc3RpbmN0KCJudW1fY29ycmVsYXRpdm8iKS5hbGlhcygiYWNjaWRlbnRlcyIpKQopCgpmYWxsZWNpZG9zX3Bvcl96b25hID0gKAogICAgZGZfZ3QKICAgIC5maWx0ZXIoRi5jb2woImZhbGxlY2lkb3NfbGVzaW9uYWRvcyIpID09ICJGYWxsZWNpZG8iKQogICAgLmdyb3VwQnkoInpvbmFfb2N1IikKICAgIC5hZ2coRi5jb3VudChGLmxpdCgxKSkuYWxpYXMoImZhbGxlY2lkb3MiKSkKKQoKcmVzX3pvbmEgPSAoCiAgICBhY2NfcG9yX3pvbmEKICAgIC5qb2luKGZhbGxlY2lkb3NfcG9yX3pvbmEsIG9uPSJ6b25hX29jdSIsIGhvdz0ibGVmdCIpCiAgICAubmEuZmlsbCh7ImZhbGxlY2lkb3MiOiAwfSkKICAgIC53aXRoQ29sdW1uKCJ6b25hX251bSIsIEYuY29sKCJ6b25hX29jdSIpLmNhc3QoImludCIpKQogICAgLm9yZGVyQnkoInpvbmFfbnVtIikKKQoKZGlzcGxheShyZXNfem9uYSkK\").decode())\n\ntry:\n    # run user code\n    __backend_agg_user_code_fn()\n\n    #reset display function\n    display = __backend_agg_display_orig\n\n    if len(__backend_agg_dfs) > 0:\n        # create a temp view\n        if type(__backend_agg_dfs[0]).__module__ == \"databricks.koalas.frame\":\n            # koalas dataframe\n            __backend_agg_dfs[0].to_spark().createOrReplaceTempView(\"DatabricksView575b65c\")\n        elif type(__backend_agg_dfs[0]).__module__ == \"pandas.core.frame\" or isinstance(__backend_agg_dfs[0], list):\n            # pandas dataframe\n            spark.createDataFrame(__backend_agg_dfs[0]).createOrReplaceTempView(\"DatabricksView575b65c\")\n        else:\n            __backend_agg_dfs[0].createOrReplaceTempView(\"DatabricksView575b65c\")\n        #run backend agg\n        display(spark.sql(\"\"\"WITH q AS (select * from DatabricksView575b65c) SELECT `zona_ocu`,SUM(`accidentes`) `column_155967ef444`,SUM(`fallecidos`) `column_155967ef447` FROM q GROUP BY `zona_ocu`\"\"\"))\n    else:\n        displayHTML(\"dataframe no longer exists. If you're using dataframe.display(), use display(dataframe) instead.\")\n\n\nfinally:\n    spark.sql(\"drop view if exists DatabricksView575b65c\")\n    display = __backend_agg_display_orig\n    del __backend_agg_display_new\n    del __backend_agg_display_orig\n    del __backend_agg_dfs\n    del __backend_agg_user_code_fn\n\n",
       "commandTitle": "Visualization 1",
       "commandType": "auto",
       "commandVersion": 0,
       "commentThread": [],
       "commentsVisible": false,
       "contentSha256Hex": null,
       "customPlotOptions": {
        "redashChart": [
         {
          "key": "type",
          "value": "CHART"
         },
         {
          "key": "options",
          "value": {
           "alignYAxesAtZero": true,
           "coefficient": 1,
           "columnConfigurationMap": {
            "x": {
             "column": "zona_ocu",
             "id": "column_155967ef442"
            },
            "y": [
             {
              "column": "accidentes",
              "id": "column_155967ef444",
              "transform": "SUM"
             },
             {
              "column": "fallecidos",
              "id": "column_155967ef447",
              "transform": "SUM"
             }
            ]
           },
           "dateTimeFormat": "DD/MM/YYYY HH:mm",
           "direction": {
            "type": "counterclockwise"
           },
           "error_y": {
            "type": "data",
            "visible": true
           },
           "globalSeriesType": "column",
           "isAggregationOn": true,
           "legend": {
            "traceorder": "normal"
           },
           "missingValuesAsZero": true,
           "numberFormat": "0,0.[00000]",
           "percentFormat": "0[.]00%",
           "series": {
            "error_y": {
             "type": "data",
             "visible": true
            },
            "stacking": null
           },
           "seriesOptions": {
            "column_155967ef444": {
             "name": "Accidentes",
             "type": "column",
             "yAxis": 0
            },
            "column_155967ef447": {
             "name": "Fallecidos",
             "type": "column",
             "yAxis": 0
            }
           },
           "showDataLabels": false,
           "sizemode": "diameter",
           "sortX": true,
           "sortY": true,
           "swappedAxes": false,
           "textFormat": "",
           "useAggregationsUi": true,
           "valuesOptions": {},
           "version": 2,
           "xAxis": {
            "labels": {
             "enabled": true
            },
            "type": "-"
           },
           "yAxis": [
            {
             "title": {
              "text": "Quantity"
             },
             "type": "-"
            },
            {
             "opposite": true,
             "type": "-"
            }
           ]
          }
         }
        ]
       },
       "datasetPreviewNameToCmdIdMap": {},
       "diffDeletes": [],
       "diffInserts": [],
       "displayType": "redashChart",
       "error": null,
       "errorDetails": null,
       "errorSummary": null,
       "errorTraceType": null,
       "finishTime": 0,
       "globalVars": {},
       "guid": "",
       "height": "auto",
       "hideCommandCode": false,
       "hideCommandResult": false,
       "iPythonMetadata": null,
       "inputWidgets": {},
       "isLockedInExamMode": false,
       "latestAssumeRoleInfo": null,
       "latestUser": "a user",
       "latestUserId": null,
       "listResultMetadata": null,
       "metadata": {},
       "nuid": "b70f6ba4-20e8-4c8e-9ad5-945822001867",
       "origId": 0,
       "parentHierarchy": [],
       "pivotAggregation": null,
       "pivotColumns": null,
       "position": 66.0,
       "resultDbfsErrorMessage": null,
       "resultDbfsStatus": "INLINED_IN_TREE",
       "results": null,
       "showCommandTitle": false,
       "startTime": 0,
       "state": "input",
       "streamStates": {},
       "subcommandOptions": {
        "queryPlan": {
         "groups": [
          {
           "column": "zona_ocu",
           "type": "column"
          }
         ],
         "selects": [
          {
           "column": "zona_ocu",
           "type": "column"
          },
          {
           "alias": "column_155967ef444",
           "args": [
            {
             "column": "accidentes",
             "type": "column"
            }
           ],
           "function": "SUM",
           "type": "function"
          },
          {
           "alias": "column_155967ef447",
           "args": [
            {
             "column": "fallecidos",
             "type": "column"
            }
           ],
           "function": "SUM",
           "type": "function"
          }
         ]
        }
       },
       "submitTime": 0,
       "subtype": "tableResultSubCmd.visualization",
       "tableResultIndex": 0,
       "tableResultSettingsMap": {},
       "useConsistentColors": false,
       "version": "CommandV1",
       "width": "auto",
       "workflows": null,
       "xColumns": null,
       "yColumns": null
      }
     },
     "output_type": "display_data"
    }
   ],
   "source": [
    "df_gt = df_fallecidos.filter(F.upper(F.trim(F.col(\"mupio_ocu\"))) == F.lit(\"GUATEMALA\"))\n",
    "\n",
    "acc_por_zona = (\n",
    "    df_gt\n",
    "    .groupBy(\"zona_ocu\")\n",
    "    .agg(F.countDistinct(\"num_correlativo\").alias(\"accidentes\"))\n",
    ")\n",
    "\n",
    "fallecidos_por_zona = (\n",
    "    df_gt\n",
    "    .filter(F.col(\"fallecidos_lesionados\") == \"Fallecido\")\n",
    "    .groupBy(\"zona_ocu\")\n",
    "    .agg(F.count(F.lit(1)).alias(\"fallecidos\"))\n",
    ")\n",
    "\n",
    "res_zona = (\n",
    "    acc_por_zona\n",
    "    .join(fallecidos_por_zona, on=\"zona_ocu\", how=\"left\")\n",
    "    .na.fill({\"fallecidos\": 0})\n",
    "    .withColumn(\"zona_num\", F.col(\"zona_ocu\").cast(\"int\"))\n",
    "    .orderBy(\"zona_num\")\n",
    ")\n",
    "\n",
    "display(res_zona)\n"
   ]
  },
  {
   "cell_type": "code",
   "execution_count": 0,
   "metadata": {
    "application/vnd.databricks.v1+cell": {
     "cellMetadata": {
      "byteLimit": 2048000,
      "rowLimit": 10000
     },
     "inputWidgets": {},
     "nuid": "0a31716e-7a33-40a5-8969-dcabe1de76e3",
     "showTitle": false,
     "tableResultSettingsMap": {},
     "title": ""
    },
    "jupyter": {
     "outputs_hidden": true,
     "source_hidden": true
    }
   },
   "outputs": [],
   "source": [
    "pdf = (\n",
    "    res_zona\n",
    "    .select(\"zona_ocu\", \"accidentes\", \"fallecidos\", \"zona_num\")\n",
    "    .orderBy(\"zona_num\")\n",
    "    .toPandas()\n",
    ")\n",
    "\n",
    "x = np.arange(len(pdf[\"zona_ocu\"]))\n",
    "w = 0.42\n",
    "\n",
    "fig = plt.figure()\n",
    "plt.bar(x - w/2, pdf[\"accidentes\"], w, label=\"Accidentes\")\n",
    "plt.bar(x + w/2, pdf[\"fallecidos\"], w, label=\"Fallecidos\")\n",
    "plt.xticks(x, pdf[\"zona_ocu\"])\n",
    "plt.ylabel(\"Total\")\n",
    "plt.title(\"Municipio de Guatemala — Accidentes y Fallecidos por Zona\")\n",
    "plt.legend()\n",
    "plt.show()\n"
   ]
  },
  {
   "cell_type": "markdown",
   "metadata": {
    "application/vnd.databricks.v1+cell": {
     "cellMetadata": {
      "byteLimit": 2048000,
      "rowLimit": 10000
     },
     "inputWidgets": {},
     "nuid": "eb732b02-4336-4c3d-acfb-1c41a3353d6c",
     "showTitle": false,
     "tableResultSettingsMap": {},
     "title": ""
    }
   },
   "source": [
    "### 17. Crear un DataFrame que muestre el porcentaje de accidentes donde el conductor era hombre vs mujer (tabla vehículos). Guardar como Parquet. Finalmente, vuélvalo a cargar y grafique con display en gráfico de pie"
   ]
  },
  {
   "cell_type": "code",
   "execution_count": 0,
   "metadata": {
    "application/vnd.databricks.v1+cell": {
     "cellMetadata": {
      "byteLimit": 2048000,
      "rowLimit": 10000
     },
     "inputWidgets": {},
     "nuid": "159574a5-bf26-4a28-b677-5ec9297f1359",
     "showTitle": false,
     "tableResultSettingsMap": {},
     "title": ""
    }
   },
   "outputs": [
    {
     "output_type": "display_data",
     "data": {
      "text/plain": [
       "Databricks visualization. Run in Databricks to view."
      ]
     },
     "metadata": {
      "application/vnd.databricks.v1.subcommand+json": {
       "baseErrorDetails": null,
       "bindings": {},
       "collapsed": false,
       "command": "%python\n__backend_agg_display_orig = display\n__backend_agg_dfs = []\ndef __backend_agg_display_new(df):\n    __backend_agg_df_modules = [\"pandas.core.frame\", \"databricks.koalas.frame\", \"pyspark.sql.dataframe\", \"pyspark.pandas.frame\", \"pyspark.sql.connect.dataframe\"]\n    if (type(df).__module__ in __backend_agg_df_modules and type(df).__name__ == 'DataFrame') or isinstance(df, list):\n        __backend_agg_dfs.append(df)\n\ndisplay = __backend_agg_display_new\n\ndef __backend_agg_user_code_fn():\n    import base64\n    exec(base64.standard_b64decode(\"dmVoID0gKAogICAgZGZfdmVoaWN1bG9zCiAgICAuc2VsZWN0KCJudW1fY29ycmVsYXRpdm8iLCBGLnRyaW0oRi51cHBlcigic2V4b19waWwiKSkuYWxpYXMoInNleG9fcmF3IikpCiAgICAud2l0aENvbHVtbigKICAgICAgICAic2V4byIsCiAgICAgICAgRi53aGVuKEYuY29sKCJzZXhvX3JhdyIpID09ICJIT01CUkUiLCAiSG9tYnJlIikKICAgICAgICAgLndoZW4oRi5jb2woInNleG9fcmF3IikgPT0gIk1VSkVSIiwgICJNdWplciIpCiAgICApICAjIElnbm9yYWRvIC0+IG51bGwKICAgIC5maWx0ZXIoRi5jb2woInNleG8iKS5pc05vdE51bGwoKSkKKQoKIyBVbiDDum5pY28gc2V4byBwb3IgYWNjaWRlbnRlIChzaW4gY29uZmxpY3RvKQphY2NpZGVudGVzX3NleG8gPSAoCiAgICB2ZWguZ3JvdXBCeSgibnVtX2NvcnJlbGF0aXZvIikKICAgICAgIC5hZ2coCiAgICAgICAgICAgRi5jb3VudERpc3RpbmN0KCJzZXhvIikuYWxpYXMoIm5fc2V4b3MiKSwKICAgICAgICAgICBGLmZpcnN0KCJzZXhvIikuYWxpYXMoInNleG8iKQogICAgICAgKQogICAgICAgLmZpbHRlcihGLmNvbCgibl9zZXhvcyIpID09IDEpCiAgICAgICAuc2VsZWN0KCJudW1fY29ycmVsYXRpdm8iLCAic2V4byIpCikKCiMgQ29udGVvcyB5IHBvcmNlbnRhamVzCnJlc3VtZW4gPSAoCiAgICBhY2NpZGVudGVzX3NleG8uZ3JvdXBCeSgic2V4byIpCiAgICAgICAgICAgICAgICAgICAuYWdnKEYuY291bnREaXN0aW5jdCgibnVtX2NvcnJlbGF0aXZvIikuYWxpYXMoImFjY2lkZW50ZXMiKSkKKQoKdG90YWwgPSByZXN1bWVuLmFnZyhGLnN1bSgiYWNjaWRlbnRlcyIpLmFsaWFzKCJ0b3RhbCIpKS5maXJzdCgpWyJ0b3RhbCJdCgpwb3JjZW50YWplcyA9ICgKICAgIHJlc3VtZW4ud2l0aENvbHVtbigicG9yY2VudGFqZSIsIEYucm91bmQoRi5jb2woImFjY2lkZW50ZXMiKS9GLmxpdCh0b3RhbCkqMTAwLCAyKSkKICAgICAgICAgICAub3JkZXJCeSgic2V4byIpCikKCmRpc3BsYXkocG9yY2VudGFqZXMpCg==\").decode())\n\ntry:\n    # run user code\n    __backend_agg_user_code_fn()\n\n    #reset display function\n    display = __backend_agg_display_orig\n\n    if len(__backend_agg_dfs) > 0:\n        # create a temp view\n        if type(__backend_agg_dfs[0]).__module__ == \"databricks.koalas.frame\":\n            # koalas dataframe\n            __backend_agg_dfs[0].to_spark().createOrReplaceTempView(\"DatabricksViewea4038c\")\n        elif type(__backend_agg_dfs[0]).__module__ == \"pandas.core.frame\" or isinstance(__backend_agg_dfs[0], list):\n            # pandas dataframe\n            spark.createDataFrame(__backend_agg_dfs[0]).createOrReplaceTempView(\"DatabricksViewea4038c\")\n        else:\n            __backend_agg_dfs[0].createOrReplaceTempView(\"DatabricksViewea4038c\")\n        #run backend agg\n        display(spark.sql(\"\"\"WITH q AS (select * from DatabricksViewea4038c) SELECT `sexo`,SUM(`porcentaje`) `column_155967ef467` FROM q GROUP BY `sexo`\"\"\"))\n    else:\n        displayHTML(\"dataframe no longer exists. If you're using dataframe.display(), use display(dataframe) instead.\")\n\n\nfinally:\n    spark.sql(\"drop view if exists DatabricksViewea4038c\")\n    display = __backend_agg_display_orig\n    del __backend_agg_display_new\n    del __backend_agg_display_orig\n    del __backend_agg_dfs\n    del __backend_agg_user_code_fn\n\n",
       "commandTitle": "Visualization 1",
       "commandType": "auto",
       "commandVersion": 0,
       "commentThread": [],
       "commentsVisible": false,
       "contentSha256Hex": null,
       "customPlotOptions": {
        "redashChart": [
         {
          "key": "type",
          "value": "CHART"
         },
         {
          "key": "options",
          "value": {
           "alignYAxesAtZero": true,
           "coefficient": 1,
           "columnConfigurationMap": {
            "x": {
             "column": "sexo",
             "id": "column_155967ef470"
            },
            "y": [
             {
              "column": "porcentaje",
              "id": "column_155967ef467",
              "transform": "SUM"
             }
            ]
           },
           "dateTimeFormat": "DD/MM/YYYY HH:mm",
           "direction": {
            "type": "counterclockwise"
           },
           "error_y": {
            "type": "data",
            "visible": true
           },
           "globalSeriesType": "pie",
           "isAggregationOn": true,
           "legend": {
            "traceorder": "normal"
           },
           "missingValuesAsZero": true,
           "numberFormat": "0,0.[00000]",
           "percentFormat": "0[.]00%",
           "series": {
            "error_y": {
             "type": "data",
             "visible": true
            },
            "stacking": null
           },
           "seriesOptions": {
            "column_155967ef467": {
             "name": "porcentaje",
             "type": "pie",
             "yAxis": 0
            }
           },
           "showDataLabels": true,
           "sizemode": "diameter",
           "sortX": true,
           "sortY": true,
           "swappedAxes": false,
           "textFormat": "",
           "useAggregationsUi": true,
           "valuesOptions": {},
           "version": 2,
           "xAxis": {
            "labels": {
             "enabled": true
            },
            "type": "-"
           },
           "yAxis": [
            {
             "type": "-"
            },
            {
             "opposite": true,
             "type": "-"
            }
           ]
          }
         }
        ]
       },
       "datasetPreviewNameToCmdIdMap": {},
       "diffDeletes": [],
       "diffInserts": [],
       "displayType": "redashChart",
       "error": null,
       "errorDetails": null,
       "errorSummary": null,
       "errorTraceType": null,
       "finishTime": 0,
       "globalVars": {},
       "guid": "",
       "height": "auto",
       "hideCommandCode": false,
       "hideCommandResult": false,
       "iPythonMetadata": null,
       "inputWidgets": {},
       "isLockedInExamMode": false,
       "latestAssumeRoleInfo": null,
       "latestUser": "a user",
       "latestUserId": null,
       "listResultMetadata": null,
       "metadata": {},
       "nuid": "8807518d-537f-4bef-9f2a-c99a35fdeb6d",
       "origId": 0,
       "parentHierarchy": [],
       "pivotAggregation": null,
       "pivotColumns": null,
       "position": 68.0,
       "resultDbfsErrorMessage": null,
       "resultDbfsStatus": "INLINED_IN_TREE",
       "results": null,
       "showCommandTitle": false,
       "startTime": 0,
       "state": "input",
       "streamStates": {},
       "subcommandOptions": {
        "queryPlan": {
         "groups": [
          {
           "column": "sexo",
           "type": "column"
          }
         ],
         "selects": [
          {
           "column": "sexo",
           "type": "column"
          },
          {
           "alias": "column_155967ef467",
           "args": [
            {
             "column": "porcentaje",
             "type": "column"
            }
           ],
           "function": "SUM",
           "type": "function"
          }
         ]
        }
       },
       "submitTime": 0,
       "subtype": "tableResultSubCmd.visualization",
       "tableResultIndex": 0,
       "tableResultSettingsMap": {},
       "useConsistentColors": false,
       "version": "CommandV1",
       "width": "auto",
       "workflows": null,
       "xColumns": null,
       "yColumns": null
      }
     },
     "output_type": "display_data"
    }
   ],
   "source": [
    "veh = (\n",
    "    df_vehiculos\n",
    "    .select(\"num_correlativo\", F.trim(F.upper(\"sexo_pil\")).alias(\"sexo_raw\"))\n",
    "    .withColumn(\n",
    "        \"sexo\",\n",
    "        F.when(F.col(\"sexo_raw\") == \"HOMBRE\", \"Hombre\")\n",
    "         .when(F.col(\"sexo_raw\") == \"MUJER\",  \"Mujer\")\n",
    "    )  # Ignorado -> null\n",
    "    .filter(F.col(\"sexo\").isNotNull())\n",
    ")\n",
    "\n",
    "# Un único sexo por accidente (sin conflicto)\n",
    "accidentes_sexo = (\n",
    "    veh.groupBy(\"num_correlativo\")\n",
    "       .agg(\n",
    "           F.countDistinct(\"sexo\").alias(\"n_sexos\"),\n",
    "           F.first(\"sexo\").alias(\"sexo\")\n",
    "       )\n",
    "       .filter(F.col(\"n_sexos\") == 1)\n",
    "       .select(\"num_correlativo\", \"sexo\")\n",
    ")\n",
    "\n",
    "# Conteos y porcentajes\n",
    "resumen = (\n",
    "    accidentes_sexo.groupBy(\"sexo\")\n",
    "                   .agg(F.countDistinct(\"num_correlativo\").alias(\"accidentes\"))\n",
    ")\n",
    "\n",
    "total = resumen.agg(F.sum(\"accidentes\").alias(\"total\")).first()[\"total\"]\n",
    "\n",
    "porcentajes = (\n",
    "    resumen.withColumn(\"porcentaje\", F.round(F.col(\"accidentes\")/F.lit(total)*100, 2))\n",
    "           .orderBy(\"sexo\")\n",
    ")\n",
    "\n",
    "display(porcentajes)\n"
   ]
  },
  {
   "cell_type": "code",
   "execution_count": 0,
   "metadata": {
    "application/vnd.databricks.v1+cell": {
     "cellMetadata": {
      "byteLimit": 2048000,
      "rowLimit": 10000
     },
     "inputWidgets": {},
     "nuid": "84ff4754-2b70-4278-852f-02d97608df34",
     "showTitle": false,
     "tableResultSettingsMap": {},
     "title": ""
    }
   },
   "outputs": [],
   "source": [
    "# Guardar como Parquet\n",
    "PARQUET_PATH = \"/Volumes/workspace/default/data_lab8/data lab8/resultados/porcentaje_accidentes_por_sexo\"\n",
    "(porcentajes.coalesce(1).write.mode(\"overwrite\").parquet(PARQUET_PATH))\n",
    "\n",
    "porcentajes_loaded = spark.read.parquet(PARQUET_PATH)\n",
    "display(porcentajes_loaded)\n"
   ]
  },
  {
   "cell_type": "markdown",
   "metadata": {
    "application/vnd.databricks.v1+cell": {
     "cellMetadata": {
      "byteLimit": 2048000,
      "rowLimit": 10000
     },
     "inputWidgets": {},
     "nuid": "caaa79b3-138e-45de-9459-00370d5cf773",
     "showTitle": false,
     "tableResultSettingsMap": {},
     "title": ""
    }
   },
   "source": []
  }
 ],
 "metadata": {
  "application/vnd.databricks.v1+notebook": {
   "computePreferences": {
    "hardware": {
     "accelerator": null,
     "gpuPoolId": null,
     "memory": null
    }
   },
   "dashboards": [],
   "environmentMetadata": {
    "base_environment": "",
    "dependencies": [
     "openpyxl",
     "unidecode"
    ],
    "environment_version": "2"
   },
   "inputWidgetPreferences": null,
   "language": "python",
   "notebookMetadata": {
    "mostRecentlyExecutedCommandWithImplicitDF": {
     "commandId": 8752135892290516,
     "dataframes": [
      "_sqldf"
     ]
    },
    "pythonIndentUnit": 4
   },
   "notebookName": "main",
   "widgets": {}
  },
  "kernelspec": {
   "display_name": "Python 3",
   "language": "python",
   "name": "python3"
  },
  "language_info": {
   "name": "python"
  }
 },
 "nbformat": 4,
 "nbformat_minor": 0
}
