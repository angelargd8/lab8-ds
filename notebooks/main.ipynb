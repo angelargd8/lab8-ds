{
 "cells": [
  {
   "cell_type": "markdown",
   "metadata": {
    "application/vnd.databricks.v1+cell": {
     "cellMetadata": {
      "byteLimit": 2048000,
      "rowLimit": 10000
     },
     "inputWidgets": {},
     "nuid": "8e814f90-0da6-414a-bdd7-b1391510d053",
     "showTitle": false,
     "tableResultSettingsMap": {},
     "title": ""
    }
   },
   "source": [
    "# Laboratorio 8 \n",
    "    - Francis Aguilar - 22243\n",
    "    - César López - 22535\n",
    "    - Angela García -22869 \n",
    "\n",
    "\n",
    "enlace al repositorio: https://github.com/angelargd8/lab8-ds\n"
   ]
  },
  {
   "cell_type": "code",
   "execution_count": 0,
   "metadata": {
    "application/vnd.databricks.v1+cell": {
     "cellMetadata": {
      "byteLimit": 2048000,
      "rowLimit": 10000
     },
     "inputWidgets": {},
     "nuid": "df4acaf7-636c-48c8-8a34-55bcc38e37ea",
     "showTitle": false,
     "tableResultSettingsMap": {},
     "title": ""
    }
   },
   "outputs": [],
   "source": [
    "\n",
    "# Cargar el archivos\n",
    "# /Volumes/workspace/default/data_lab8/data lab8/fallecidos/2013 vehiculos involucrados.xlsx\n",
    "path_fallecidos = \"/Volumes/workspace/default/data_lab8/data lab8/fallecidos/\"\n",
    "path_hechos = \"/Volumes/workspace/default/data_lab8/data lab8/hechos y transito/\"\n",
    "path_vehiculos = \"/Volumes/workspace/default/data_lab8/data lab8/vehiculos involucrados/\""
   ]
  },
  {
   "cell_type": "code",
   "execution_count": 0,
   "metadata": {
    "application/vnd.databricks.v1+cell": {
     "cellMetadata": {
      "byteLimit": 2048000,
      "rowLimit": 10000
     },
     "inputWidgets": {},
     "nuid": "43c60769-85e5-40ea-8c84-1b8e299abc7d",
     "showTitle": false,
     "tableResultSettingsMap": {},
     "title": ""
    }
   },
   "outputs": [],
   "source": [
    "# %pip install openpyxl"
   ]
  },
  {
   "cell_type": "markdown",
   "metadata": {
    "application/vnd.databricks.v1+cell": {
     "cellMetadata": {
      "byteLimit": 2048000,
      "rowLimit": 10000
     },
     "inputWidgets": {},
     "nuid": "8352b5da-301b-48b3-af13-c901bb678c16",
     "showTitle": false,
     "tableResultSettingsMap": {},
     "title": ""
    }
   },
   "source": [
    "### 1. Mostrar cuántos registros hay en cada tabla (hechos, vehículos, fallecidos, lesionados). Muestre algunos resultados con la función .show(). Genere un describe y summary para aquellas columnas que considere importantes según cada archivo.\n",
    "\n",
    "Primero convertimos en csv los xlsx para poder procesarlos con spark\n"
   ]
  },
  {
   "cell_type": "code",
   "execution_count": 0,
   "metadata": {
    "application/vnd.databricks.v1+cell": {
     "cellMetadata": {
      "byteLimit": 2048000,
      "rowLimit": 10000
     },
     "inputWidgets": {},
     "nuid": "a5bf506a-2712-4fe5-bf53-b57af94bf152",
     "showTitle": false,
     "tableResultSettingsMap": {},
     "title": ""
    }
   },
   "outputs": [],
   "source": [
    "import pandas as pd\n",
    "import glob\n",
    "import os\n",
    "\n",
    "paths = [path_fallecidos, path_hechos, path_vehiculos]\n",
    "# paths = [path_fallecidos]\n",
    "\n",
    "# convertimos los datos a csv antes de leerlos con spark \n",
    "for path in paths: \n",
    "    for file in glob.glob(os.path.join(path, \"*.xlsx\")):\n",
    "        df = pd.read_excel(file)\n",
    "        csv_path = file.replace(\".xlsx\", \".csv\")\n",
    "        df.to_csv(csv_path, index=False)\n",
    "\n"
   ]
  },
  {
   "cell_type": "code",
   "execution_count": 0,
   "metadata": {
    "application/vnd.databricks.v1+cell": {
     "cellMetadata": {
      "byteLimit": 2048000,
      "rowLimit": 10000
     },
     "inputWidgets": {},
     "nuid": "164fbcf2-5252-4125-81e4-a81e7603de65",
     "showTitle": false,
     "tableResultSettingsMap": {},
     "title": ""
    }
   },
   "outputs": [],
   "source": [
    "\n",
    "# Listar los CSVs en la carpeta\n",
    "files_fallecidos = [f.path for f in dbutils.fs.ls(path_fallecidos) if f.name.endswith(\".csv\")]\n",
    "files_hechos = [f.path for f in dbutils.fs.ls(path_hechos) if f.name.endswith(\".csv\")]\n",
    "files_vehiculos = [f.path for f in dbutils.fs.ls(path_vehiculos) if f.name.endswith(\".csv\")]\n",
    "\n",
    "\n",
    "def mostrar_columnas(files):\n",
    "    columnas_unicas = set()\n",
    "\n",
    "    for file in files:\n",
    "        try:\n",
    "            df = spark.read.option(\"header\", \"true\").csv(file, inferSchema=True)\n",
    "            count = df.count()\n",
    "            print(f\"ARCHIVO: {file}\")\n",
    "            print(f\"   Columnas ({len(df.columns)}): {df.columns}\")\n",
    "            print(f\"   Registros: {count}\")\n",
    "            print(\"-\" * 80)\n",
    "\n",
    "            # Agregar columnas al conjunto (evita duplicados)\n",
    "            columnas_unicas.update(df.columns)\n",
    "\n",
    "        except Exception as e:\n",
    "            print(f\"Error al leer el archivo {file}: {e}\")\n",
    "\n",
    "    # Convertir a lista ordenada alfabéticamente\n",
    "    columnas_ordenadas = sorted(columnas_unicas)\n",
    "    \n",
    "    print(\"\\nLista de todas las columnas únicas (ordenadas alfabéticamente):\")\n",
    "    for col in columnas_ordenadas:\n",
    "        print(f\" - {col}\")\n"
   ]
  },
  {
   "cell_type": "code",
   "execution_count": 0,
   "metadata": {
    "application/vnd.databricks.v1+cell": {
     "cellMetadata": {
      "byteLimit": 2048000,
      "rowLimit": 10000
     },
     "inputWidgets": {},
     "nuid": "b1303636-06dc-4d47-b91f-c496029ae786",
     "showTitle": false,
     "tableResultSettingsMap": {},
     "title": ""
    }
   },
   "outputs": [],
   "source": [
    "# visualizamos las columnas antes de realizar cambios \n",
    "mostrar_columnas(files_fallecidos)"
   ]
  },
  {
   "cell_type": "code",
   "execution_count": 0,
   "metadata": {
    "application/vnd.databricks.v1+cell": {
     "cellMetadata": {
      "byteLimit": 2048000,
      "rowLimit": 10000
     },
     "inputWidgets": {},
     "nuid": "27809c43-6417-409c-b7fd-9e4a18d69842",
     "showTitle": false,
     "tableResultSettingsMap": {},
     "title": ""
    }
   },
   "outputs": [],
   "source": [
    "%pip install unidecode"
   ]
  },
  {
   "cell_type": "code",
   "execution_count": 0,
   "metadata": {
    "application/vnd.databricks.v1+cell": {
     "cellMetadata": {
      "byteLimit": 2048000,
      "rowLimit": 10000
     },
     "inputWidgets": {},
     "nuid": "c3568cd0-6596-41f7-8196-39d477b35f86",
     "showTitle": false,
     "tableResultSettingsMap": {},
     "title": ""
    }
   },
   "outputs": [],
   "source": [
    "from pyspark.sql import SparkSession\n",
    "from pyspark.sql.functions import lit\n",
    "import unidecode\n",
    "\n",
    "\n",
    "archivos = []\n",
    "\n",
    "for file in files_fallecidos:\n",
    "    df = spark.read.option(\"header\", \"true\").csv(file, inferSchema=True)\n",
    "    if file == \"2014 fallecidos y lesionados.csv\":\n",
    "        df = df.drop(\"num_corre\", \"corre_base\")\n",
    "     # ---  Eliminar columnas específicas si aparecen ---\n",
    "    columnas_a_eliminar = [\n",
    "        \"g_edad_2\", \"g_edad_60ymás\", \"g_edad_80ymás\",\n",
    "        \"Otro_g_edad_fall_les\", \"edad_quinquenales\",\n",
    "        \"g_hora_5\", \"g_modelo_veh\", \"int_o_noint\",\n",
    "        \"área_geo_ocu\", \"g_hora\"\n",
    "    ]\n",
    "    for col in columnas_a_eliminar:\n",
    "        if col in df.columns:\n",
    "            df = df.drop(col)\n",
    "\n",
    "    # --- Renombrar columnas relacionadas con num_correlativo ---\n",
    "    corre_cols = [\"Núm_corre\", \"num_corre\", \"num_hecho\", \"núm_corre\"]\n",
    "    for col in corre_cols:\n",
    "        if col in df.columns:\n",
    "            df = df.withColumnRenamed(col, \"num_correlativo\")\n",
    "\n",
    "    # --- Reemplazar 'fall_les' por 'Fallecidos_Lesionados' ---\n",
    "    if \"fall_les\" in df.columns:\n",
    "        df = df.withColumnRenamed(\"fall_les\", \"Fallecidos_Lesionados\")\n",
    "\n",
    "    # --- Quitar tildes de los nombres de columnas ---\n",
    "    new_columns = [unidecode.unidecode(c) for c in df.columns]\n",
    "    df = df.toDF(*new_columns)\n",
    "\n",
    "    # --- Unificar edad_per y edad_pil en una sola columna ---\n",
    "    # Si ambas existen, preferimos mantener 'edad_per'\n",
    "    if \"edad_pil\" in df.columns and \"edad_per\" in df.columns:\n",
    "        df = df.drop(\"edad_pil\")\n",
    "    elif \"edad_pil\" in df.columns:\n",
    "        df = df.withColumnRenamed(\"edad_pil\", \"edad_per\")\n",
    "\n",
    "    if \"sexo_pil\" in df.columns:\n",
    "        df = df.withColumnRenamed(\"sexo_pil\", \"sexo_per\")\n",
    "\n",
    "    # --- Agregar columna con el nombre del archivo ---\n",
    "    nombre_archivo = file.split(\"/\")[-1]  # extrae solo el nombre sin la ruta\n",
    "    df = df.withColumn(\"archivo_origen\", lit(nombre_archivo))\n",
    "\n",
    "\n",
    "    archivos.append(df)\n",
    "    \n",
    "    nombre_salida = os.path.splitext(nombre_archivo)[0] + \"_limpio.csv\"\n",
    "    ruta_salida = os.path.join(path_fallecidos+'data_clean/', nombre_salida)\n",
    "    df.coalesce(1).write.mode(\"overwrite\").option(\"header\", \"true\").csv(ruta_salida)\n",
    "\n",
    "archivos[0].show(5)\n",
    "print(\"Columnas finales:\", archivos[0].columns)\n"
   ]
  },
  {
   "cell_type": "code",
   "execution_count": 0,
   "metadata": {
    "application/vnd.databricks.v1+cell": {
     "cellMetadata": {
      "byteLimit": 2048000,
      "rowLimit": 10000
     },
     "inputWidgets": {},
     "nuid": "8b948a3b-0112-4d55-ae93-ca9f59589214",
     "showTitle": false,
     "tableResultSettingsMap": {},
     "title": ""
    }
   },
   "outputs": [],
   "source": [
    "df_fallecidos = (\n",
    "    spark.read\n",
    "    .option(\"header\", True)\n",
    "    .option(\"delimiter\", \",\")\n",
    "    .option(\"recursiveFileLookup\", \"true\")  # 🔍 busca dentro de subcarpetas\n",
    "    .csv(path_fallecidos + \"data_clean/\")\n",
    ")\n",
    "df_fallecidos.printSchema()   # Muestra las columnas y tipos de datos\n",
    "total_filas = df_fallecidos.count()   # Cuenta las filas\n",
    "\n",
    "print(f\"El DataFrame tiene {total_filas} registros.\")\n",
    "print(len(df_fallecidos.columns))\n"
   ]
  },
  {
   "cell_type": "code",
   "execution_count": 0,
   "metadata": {
    "application/vnd.databricks.v1+cell": {
     "cellMetadata": {
      "byteLimit": 2048000,
      "rowLimit": 10000
     },
     "inputWidgets": {},
     "nuid": "016cb65a-a3cd-41a1-bbfb-5985c897b451",
     "showTitle": false,
     "tableResultSettingsMap": {},
     "title": ""
    }
   },
   "outputs": [],
   "source": [
    "#Revisión de valores únicos y duplicados\n",
    "for c in df_fallecidos.columns:\n",
    "    print(c, \"→\", df_fallecidos.select(c).distinct().count())"
   ]
  },
  {
   "cell_type": "code",
   "execution_count": 0,
   "metadata": {
    "application/vnd.databricks.v1+cell": {
     "cellMetadata": {
      "byteLimit": 2048000,
      "rowLimit": 10000
     },
     "inputWidgets": {},
     "nuid": "069fd640-9411-4aff-851c-dcb126dfeba3",
     "showTitle": false,
     "tableResultSettingsMap": {},
     "title": ""
    }
   },
   "outputs": [],
   "source": [
    "for c in df_fallecidos.columns:\n",
    "    print(f\"\\n=== Columna: {c} ===\")\n",
    "    valores = df_fallecidos.select(c).distinct().collect()  # muestra hasta 20\n",
    "    print([v[c] for v in valores])"
   ]
  },
  {
   "cell_type": "code",
   "execution_count": 0,
   "metadata": {
    "application/vnd.databricks.v1+cell": {
     "cellMetadata": {
      "byteLimit": 2048000,
      "rowLimit": 10000
     },
     "inputWidgets": {},
     "nuid": "2708be70-ba4c-4b0a-b0a4-b16af7c76917",
     "showTitle": false,
     "tableResultSettingsMap": {},
     "title": ""
    }
   },
   "outputs": [],
   "source": []
  },
  {
   "cell_type": "code",
   "execution_count": 0,
   "metadata": {
    "application/vnd.databricks.v1+cell": {
     "cellMetadata": {
      "byteLimit": 2048000,
      "rowLimit": 10000
     },
     "inputWidgets": {},
     "nuid": "080bb5e1-614b-4a63-a933-a95a84653de1",
     "showTitle": false,
     "tableResultSettingsMap": {},
     "title": ""
    }
   },
   "outputs": [],
   "source": [
    "mostrar_columnas(files_hechos)"
   ]
  },
  {
   "cell_type": "code",
   "execution_count": 0,
   "metadata": {
    "application/vnd.databricks.v1+cell": {
     "cellMetadata": {
      "byteLimit": 2048000,
      "rowLimit": 10000
     },
     "inputWidgets": {},
     "nuid": "20f313e4-8f1a-4b6c-976c-db85938c0234",
     "showTitle": false,
     "tableResultSettingsMap": {},
     "title": ""
    }
   },
   "outputs": [],
   "source": [
    "mostrar_columnas(files_vehiculos)"
   ]
  },
  {
   "cell_type": "code",
   "execution_count": 0,
   "metadata": {
    "application/vnd.databricks.v1+cell": {
     "cellMetadata": {
      "byteLimit": 2048000,
      "rowLimit": 10000
     },
     "inputWidgets": {},
     "nuid": "365922e6-5fe4-4bbe-82d4-2cde86225fb2",
     "showTitle": false,
     "tableResultSettingsMap": {},
     "title": ""
    }
   },
   "outputs": [],
   "source": [
    "\n",
    "df_hechos = spark.read.option(\"delimiter\", \",\").option(\"header\", True).csv(path_hechos)\n",
    "df_vehiculos = spark.read.option(\"delimiter\", \",\").option(\"header\", True).csv(path_vehiculos)\n"
   ]
  },
  {
   "cell_type": "code",
   "execution_count": 0,
   "metadata": {
    "application/vnd.databricks.v1+cell": {
     "cellMetadata": {
      "byteLimit": 2048000,
      "rowLimit": 10000
     },
     "inputWidgets": {},
     "nuid": "b0bcca86-cb5a-4092-844a-6ec3f76dfec6",
     "showTitle": false,
     "tableResultSettingsMap": {},
     "title": ""
    }
   },
   "outputs": [],
   "source": [
    "df_fallecidos.show(5)"
   ]
  },
  {
   "cell_type": "code",
   "execution_count": 0,
   "metadata": {
    "application/vnd.databricks.v1+cell": {
     "cellMetadata": {
      "byteLimit": 2048000,
      "rowLimit": 10000
     },
     "inputWidgets": {},
     "nuid": "c9bb6eed-2709-4488-9325-208295b9c438",
     "showTitle": false,
     "tableResultSettingsMap": {},
     "title": ""
    }
   },
   "outputs": [],
   "source": [
    "df_hechos.printSchema()   # Muestra las columnas y tipos de datos\n",
    "total_filas = df_hechos.count()   # Cuenta las filas\n",
    "\n",
    "print(f\"El DataFrame tiene {total_filas} registros.\")\n",
    "print(len(df_hechos.columns))\n"
   ]
  },
  {
   "cell_type": "code",
   "execution_count": 0,
   "metadata": {
    "application/vnd.databricks.v1+cell": {
     "cellMetadata": {
      "byteLimit": 2048000,
      "rowLimit": 10000
     },
     "inputWidgets": {},
     "nuid": "fafcac19-3f30-401f-b8e5-6100ea83329d",
     "showTitle": false,
     "tableResultSettingsMap": {},
     "title": ""
    }
   },
   "outputs": [],
   "source": [
    "df_hechos.show(5)"
   ]
  },
  {
   "cell_type": "code",
   "execution_count": 0,
   "metadata": {
    "application/vnd.databricks.v1+cell": {
     "cellMetadata": {
      "byteLimit": 2048000,
      "rowLimit": 10000
     },
     "inputWidgets": {},
     "nuid": "6f3ccd57-9261-4c87-88fe-d08b93178214",
     "showTitle": false,
     "tableResultSettingsMap": {},
     "title": ""
    }
   },
   "outputs": [],
   "source": [
    "df_vehiculos.printSchema()   # Muestra las columnas y tipos de datos\n",
    "total_filas = df_vehiculos.count()   # Cuenta las filas\n",
    "\n",
    "print(f\"El DataFrame tiene {total_filas} registros.\")\n",
    "print(len(df_vehiculos.columns))"
   ]
  },
  {
   "cell_type": "code",
   "execution_count": 0,
   "metadata": {
    "application/vnd.databricks.v1+cell": {
     "cellMetadata": {
      "byteLimit": 2048000,
      "rowLimit": 10000
     },
     "inputWidgets": {},
     "nuid": "6860adf3-1a6f-40da-bd6e-aedfff646775",
     "showTitle": false,
     "tableResultSettingsMap": {},
     "title": ""
    }
   },
   "outputs": [],
   "source": [
    "\n",
    "df_vehiculos.show(5)"
   ]
  },
  {
   "cell_type": "markdown",
   "metadata": {
    "application/vnd.databricks.v1+cell": {
     "cellMetadata": {
      "byteLimit": 2048000,
      "rowLimit": 10000
     },
     "inputWidgets": {},
     "nuid": "e4b88b3a-2b56-4833-9c0f-2b948bbf6d3f",
     "showTitle": false,
     "tableResultSettingsMap": {},
     "title": ""
    }
   },
   "source": [
    "2. Identificar los años disponibles en cada tabla y validar si coinciden. "
   ]
  },
  {
   "cell_type": "code",
   "execution_count": 0,
   "metadata": {
    "application/vnd.databricks.v1+cell": {
     "cellMetadata": {
      "byteLimit": 2048000,
      "rowLimit": 10000
     },
     "inputWidgets": {},
     "nuid": "8a27e4a1-0c51-4363-b1af-a2c65a6ae84b",
     "showTitle": false,
     "tableResultSettingsMap": {},
     "title": ""
    }
   },
   "outputs": [],
   "source": []
  },
  {
   "cell_type": "markdown",
   "metadata": {
    "application/vnd.databricks.v1+cell": {
     "cellMetadata": {
      "byteLimit": 2048000,
      "rowLimit": 10000
     },
     "inputWidgets": {},
     "nuid": "60ab9a2b-88c7-45e0-8d9f-f551a48fe32f",
     "showTitle": false,
     "tableResultSettingsMap": {},
     "title": ""
    }
   },
   "source": [
    "3.  Mostrar los valores distintos de tipo de accidente."
   ]
  },
  {
   "cell_type": "code",
   "execution_count": 0,
   "metadata": {
    "application/vnd.databricks.v1+cell": {
     "cellMetadata": {
      "byteLimit": 2048000,
      "rowLimit": 10000
     },
     "inputWidgets": {},
     "nuid": "54057a30-8705-4fb1-be27-6fa56e9d10d1",
     "showTitle": false,
     "tableResultSettingsMap": {},
     "title": ""
    }
   },
   "outputs": [],
   "source": []
  },
  {
   "cell_type": "markdown",
   "metadata": {
    "application/vnd.databricks.v1+cell": {
     "cellMetadata": {
      "byteLimit": 2048000,
      "rowLimit": 10000
     },
     "inputWidgets": {},
     "nuid": "4b292c9a-cdd3-4e24-a308-21a06b490213",
     "showTitle": false,
     "tableResultSettingsMap": {},
     "title": ""
    }
   },
   "source": [
    "4.  Calcular cuántos departamentos únicos aparecen en las bases. "
   ]
  },
  {
   "cell_type": "code",
   "execution_count": 0,
   "metadata": {
    "application/vnd.databricks.v1+cell": {
     "cellMetadata": {
      "byteLimit": 2048000,
      "rowLimit": 10000
     },
     "inputWidgets": {},
     "nuid": "f2bbf201-d108-4d10-8e87-4f15bba268f0",
     "showTitle": false,
     "tableResultSettingsMap": {},
     "title": ""
    }
   },
   "outputs": [],
   "source": []
  },
  {
   "cell_type": "markdown",
   "metadata": {
    "application/vnd.databricks.v1+cell": {
     "cellMetadata": {
      "byteLimit": 2048000,
      "rowLimit": 10000
     },
     "inputWidgets": {},
     "nuid": "c2fe9922-ff81-4787-a8d9-702bcd32cc34",
     "showTitle": false,
     "tableResultSettingsMap": {},
     "title": ""
    }
   },
   "source": [
    "5. ¿Cuál es el total de accidentes por año y departamento? Apóyese de la función \n",
    "groupBy. Investigue la función display que tiene Databricks y muestre su resultado en \n",
    "formato de gráfico de barras. "
   ]
  },
  {
   "cell_type": "code",
   "execution_count": 0,
   "metadata": {
    "application/vnd.databricks.v1+cell": {
     "cellMetadata": {
      "byteLimit": 2048000,
      "rowLimit": 10000
     },
     "inputWidgets": {},
     "nuid": "f931622c-a7fa-4420-b08f-1dd17bb690da",
     "showTitle": false,
     "tableResultSettingsMap": {},
     "title": ""
    }
   },
   "outputs": [],
   "source": []
  },
  {
   "cell_type": "markdown",
   "metadata": {
    "application/vnd.databricks.v1+cell": {
     "cellMetadata": {
      "byteLimit": 2048000,
      "rowLimit": 10000
     },
     "inputWidgets": {},
     "nuid": "5d1078f8-5fdb-4e17-b13b-ee1c58d5ea77",
     "showTitle": false,
     "tableResultSettingsMap": {},
     "title": ""
    }
   },
   "source": [
    "6. ¿Qué día de la semana registra más accidentes en 2024? Graficar con display en un\n",
    "gráfico de columnas"
   ]
  },
  {
   "cell_type": "code",
   "execution_count": 0,
   "metadata": {
    "application/vnd.databricks.v1+cell": {
     "cellMetadata": {
      "byteLimit": 2048000,
      "rowLimit": 10000
     },
     "inputWidgets": {},
     "nuid": "521b4bc1-287e-4d3a-a214-cb0582fa630a",
     "showTitle": false,
     "tableResultSettingsMap": {},
     "title": ""
    }
   },
   "outputs": [],
   "source": []
  },
  {
   "cell_type": "markdown",
   "metadata": {
    "application/vnd.databricks.v1+cell": {
     "cellMetadata": {
      "byteLimit": 2048000,
      "rowLimit": 10000
     },
     "inputWidgets": {},
     "nuid": "b286629b-bb12-4d4b-ad1c-96879567d258",
     "showTitle": false,
     "tableResultSettingsMap": {},
     "title": ""
    }
   },
   "source": [
    "En 2024 el dia que muestra mas accidentes es el dia domingo"
   ]
  },
  {
   "cell_type": "markdown",
   "metadata": {
    "application/vnd.databricks.v1+cell": {
     "cellMetadata": {
      "byteLimit": 2048000,
      "rowLimit": 10000
     },
     "inputWidgets": {},
     "nuid": "00a5278e-9345-403d-b4c6-0cff070a7d20",
     "showTitle": false,
     "tableResultSettingsMap": {},
     "title": ""
    }
   },
   "source": [
    "7. Mostrar la distribución de accidentes por hora del día en el municipio de \n",
    "Guatemala. Graficar en un histograma. "
   ]
  },
  {
   "cell_type": "code",
   "execution_count": 0,
   "metadata": {
    "application/vnd.databricks.v1+cell": {
     "cellMetadata": {
      "byteLimit": 2048000,
      "rowLimit": 10000
     },
     "inputWidgets": {},
     "nuid": "e514f0e9-fc89-4c5e-b0b4-854ccc680dfc",
     "showTitle": false,
     "tableResultSettingsMap": {},
     "title": ""
    }
   },
   "outputs": [],
   "source": []
  }
 ],
 "metadata": {
  "application/vnd.databricks.v1+notebook": {
   "computePreferences": null,
   "dashboards": [],
   "environmentMetadata": null,
   "inputWidgetPreferences": null,
   "language": "python",
   "notebookMetadata": {
    "pythonIndentUnit": 4
   },
   "notebookName": "main",
   "widgets": {}
  },
  "kernelspec": {
   "display_name": "Python 3",
   "language": "python",
   "name": "python3"
  },
  "language_info": {
   "name": "python"
  }
 },
 "nbformat": 4,
 "nbformat_minor": 0
}
