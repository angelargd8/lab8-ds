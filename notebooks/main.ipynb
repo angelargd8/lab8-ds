{
 "cells": [
  {
   "cell_type": "markdown",
   "id": "7aaceafc",
   "metadata": {},
   "source": [
    "# Laboratorio 8 \n",
    "    - Francis Aguilar - 22243\n",
    "    - César López - 22535\n",
    "    - Angela García -22869 \n",
    "\n",
    "\n",
    "enlace al repositorio: https://github.com/angelargd8/lab8-ds\n"
   ]
  },
  {
   "cell_type": "code",
   "execution_count": 1,
   "id": "9f004d86-71bc-4fde-a24e-a1a6e667c0b3",
   "metadata": {},
   "outputs": [
    {
     "name": "stdout",
     "output_type": "stream",
     "text": [
      "['Portada-Presentación', 'Índice', 'Directorio ', 'Procedimiento', 'cuadro 1', 'cuadro 2', 'cuadro 3', 'cuadro 4', 'cuadro 5', 'cuadro 6', 'cuadro 7', 'cuadro 8', 'cuadro 9', 'cuadro 10', 'cuadro 11', 'cuadro 12', 'cuadro 13', 'cuadro 14', 'cuadro 15', 'cuadro 16', 'cuadro 17', 'cuadro 18', 'cuadro 19', 'cuadro 20', 'cuadro 21', 'cuadro 22', 'cuadro 23', 'cuadro 24', 'cuadro 25', 'cuadro 26', 'cuadro 27', 'cuadro 28', 'cuadro 29', 'cuadro 30', 'cuadro 31', 'cuadro 32', 'cuadro 33', 'cuadro 34', 'cuadro 35', 'cuadro 36', 'cuadro 37', 'cuadro 38', 'cuadro 39', 'cuadro 40', 'cuadro 41', 'cuadro 42', 'cuadro 43', 'cuadro 44', 'cuadro 45', 'cuadro 46', 'cuadro 47', 'cuadro 48', 'cuadro 49', 'cuadro 50', 'cuadro 51', 'cuadro 52', 'cuadro 53', 'cuadro 54', 'cuadro 55', 'cuadro 56', 'cuadro 57', 'cuadro 58', 'cuadro 59', 'cuadro 60', 'cuadro 61', 'cuadro 62', 'cuadro 63', 'cuadro 64', 'cuadro 65', 'Nota técnica', 'Ficha técnica']\n"
     ]
    }
   ],
   "source": [
    "import pandas as pd\n",
    "\n",
    "# Cargar el archivo\n",
    "excel_path = \"/opt/app/working_dir/principales.xlsx\"\n",
    "xls = pd.ExcelFile(excel_path)\n",
    "\n",
    "# Ver nombres de las hojas\n",
    "print(xls.sheet_names)\n"
   ]
  },
  {
   "cell_type": "code",
   "execution_count": 97,
   "id": "6aeeb5e9-13f8-4a0d-86ee-5c0ddab121ae",
   "metadata": {
    "scrolled": true
   },
   "outputs": [
    {
     "name": "stdout",
     "output_type": "stream",
     "text": [
      "['hechos_1', 'hechos_2', 'hechos_3', 'hechos_4', 'hechos_5', 'hechos_6', 'hechos_7', 'hechos_8', 'hechos_9', 'hechos_11', 'hechos_12', 'hechos_13', 'hechos_14', 'hechos_15', 'hechos_16']\n",
      "['vehiculos_17', 'vehiculos_18', 'vehiculos_19', 'vehiculos_20', 'vehiculos_21', 'vehiculos_22', 'vehiculos_23', 'vehiculos_24', 'vehiculos_25', 'vehiculos_26', 'vehiculos_27', 'vehiculos_28']\n",
      "['lesionados_31', 'lesionados_32', 'lesionados_33', 'lesionados_34', 'lesionados_35', 'lesionados_36', 'lesionados_37', 'lesionados_38', 'lesionados_39', 'lesionados_40', 'lesionados_41', 'lesionados_42', 'lesionados_43', 'lesionados_44', 'lesionados_45', 'lesionados_46']\n",
      "['fallecidos_47', 'fallecidos_48', 'fallecidos_49', 'fallecidos_50', 'fallecidos_51', 'fallecidos_52', 'fallecidos_53', 'fallecidos_54', 'fallecidos_55', 'fallecidos_56', 'fallecidos_57', 'fallecidos_58', 'fallecidos_59', 'fallecidos_60', 'fallecidos_61', 'fallecidos_62']\n",
      "     Departamento  2020  2021.0  2022.0  2023.0  2024.0  nan categoria  cuadro\n",
      "10          Total  6350  8153.0  7924.0  8218.0  8401.0  NaN    hechos       1\n",
      "11      Guatemala  2676  3450.0  3387.0  3457.0  3408.0  NaN    hechos       1\n",
      "12    El Progreso   124   170.0   147.0   173.0   182.0  NaN    hechos       1\n",
      "13   Sacatepéquez   202   270.0   325.0   325.0   366.0  NaN    hechos       1\n",
      "14  Chimaltenango   229   297.0   297.0   300.0   299.0  NaN    hechos       1\n"
     ]
    }
   ],
   "source": [
    "import pandas as pd\n",
    "\n",
    "excel_path = \"/opt/app/working_dir/principales.xlsx\"\n",
    "\n",
    "\n",
    "header_list = [\"departamento\", \"vehículo\", \"vehiculo\", \"mes de ocurrencia\",\"día de la semana\", \"hora de ocurrencia\",\"condición del conductor y sexo\",\"grupos de edad\", \"tipo de vehículo y sexo de la persona\", \"zona de ocurrencia\", \"tipo de accidente y sexo\"  ,\"tipo\", \"clase\", \"marca\", \"modelo de vehículo\", \"sexo\", \"grupo\", \"edad\",\"tipo de vehículo\", \"clases de vehículos\", \"color de vehículo\" ]\n",
    "\n",
    "def read_cuadro(sheet_num, categoria):\n",
    "    sheet = f\"cuadro {sheet_num}\"\n",
    "    raw = pd.read_excel(excel_path, sheet_name=sheet, header=None)\n",
    "\n",
    "    header_idx = None\n",
    "\n",
    "    for i, row in enumerate(raw.values):\n",
    "        row = raw.iloc[i].astype(str).str.lower()\n",
    "        if any(word in row.tolist() for word in header_list):\n",
    "            header_idx = i\n",
    "            break\n",
    "\n",
    "    if header_idx is None:\n",
    "        return None\n",
    "\n",
    "    # Tomo la fila de encabezados\n",
    "    header_row = raw.iloc[header_idx].tolist()\n",
    "    # Tomo la fila siguiente (por si son los años / meses / días)\n",
    "    next_row = raw.iloc[header_idx + 1].tolist()\n",
    "\n",
    "    # Combinar: si la celda en header_row está vacía, usar la de next_row\n",
    "    combined_header = []\n",
    "    for h, n in zip(header_row, next_row):\n",
    "        if pd.isna(h) or str(h).strip() == \"\":\n",
    "            combined_header.append(n)\n",
    "        elif str(h).lower() in [\"año de ocurrencia\", \"mes de ocurrencia\", \"día de la semana\", \"total\",\"hombre\",\"mujer\",\"ignorado\",\"grupos de edad\"]:\n",
    "            combined_header.append(n)  # usar el detalle\n",
    "        else:\n",
    "            combined_header.append(h)\n",
    "\n",
    "    # Extraer datos desde dos filas después\n",
    "    df = raw.iloc[header_idx + 2:].copy()\n",
    "    df.columns = combined_header\n",
    "\n",
    "    # Quitar filas vacías y ruido\n",
    "    df = df.dropna(how=\"all\")\n",
    "    df = df[~df.iloc[:,0].astype(str).str.contains(\"fuente|nota|cuadro|serie\", case=False, na=False)]\n",
    "\n",
    "    # Limpiar nombres de columnas\n",
    "    df.columns = [str(c).strip() for c in df.columns]\n",
    "\n",
    "    # Agregar metadata\n",
    "    df[\"categoria\"] = categoria\n",
    "    df[\"cuadro\"] = sheet_num\n",
    "\n",
    "    # --- Limpiar filas basura ---\n",
    "    # Quitar filas con primera columna vacía\n",
    "    df = df[df.iloc[:,0].notna() & (df.iloc[:,0].astype(str).str.strip() != \"\")]\n",
    "    \n",
    "    # Quitar filas completamente vacías en todas las columnas excepto metadata\n",
    "    cols_sin_meta = df.columns.difference([\"categoria\", \"cuadro\"])\n",
    "    df = df.dropna(subset=cols_sin_meta, how=\"all\")\n",
    "    \n",
    "    return df\n",
    "\n",
    "def build_dict(rango, categoria):\n",
    "    cuadros = {}\n",
    "    for i in rango:\n",
    "        try:\n",
    "            df = read_cuadro(i, categoria)\n",
    "            if df is not None:\n",
    "                cuadros[f\"{categoria}_{i}\"] = df\n",
    "        except Exception as e:\n",
    "            print(f\"Error en cuadro {i}: {e}\")\n",
    "    return cuadros\n",
    "\n",
    "# Procesar\n",
    "hechos_dfs = build_dict(range(1, 17), \"hechos\")\n",
    "vehiculos_dfs  = build_dict(range(17, 29), \"vehiculos\")\n",
    "lesionados_dfs = build_dict(range(31, 47), \"lesionados\")\n",
    "fallecidos_dfs = build_dict(range(47, 63), \"fallecidos\")\n",
    "\n",
    "# Verificar cuáles cuadros se cargaron\n",
    "print(list(hechos_dfs.keys()))\n",
    "print(list(vehiculos_dfs.keys()))\n",
    "print(list(lesionados_dfs.keys()))\n",
    "print(list(fallecidos_dfs.keys()))\n",
    "\n",
    "# mostrar el primero \n",
    "print(hechos_dfs[\"hechos_1\"].head())\n",
    "#print(vehiculos_dfs[\"vehiculos_17\"].head())\n",
    "#print(lesionados_dfs[\"lesionados_32\"].head())\n",
    "#print(fallecidos_dfs[\"fallecidos_48\"].head())\n",
    "\n",
    "\n",
    "    "
   ]
  },
  {
   "cell_type": "code",
   "execution_count": 98,
   "id": "72104353-4423-4882-8dab-a557b1c1fcae",
   "metadata": {},
   "outputs": [],
   "source": [
    "#hechos_dfs[\"hechos_1\"].to_csv(\"hechos1.csv\", index=False, encoding=\"utf-8\")\n",
    "##print(vehiculos_dfs[\"vehiculos_18\"].head())\n",
    "#vehiculos_dfs[\"vehiculos_18\"].to_csv(\"vehiculos_18.csv\", index=False, encoding=\"utf-8\")\n",
    "#fallecidos_dfs[\"fallecidos_48\"].to_csv(\"fallecidos_48.csv\", index=False, encoding=\"utf-8\")\n",
    "#lesionados_dfs[\"lesionados_40\"].to_csv(\"lesionados_40.csv\", index=False, encoding=\"utf-8\")"
   ]
  },
  {
   "cell_type": "code",
   "execution_count": 96,
   "id": "6328e931-0d79-4e82-84bd-c540bec33525",
   "metadata": {},
   "outputs": [],
   "source": [
    "from pyspark.sql import SparkSession\n",
    "\n",
    "# creacion de la aplicacion\n",
    "spark = SparkSession.getActiveSession() or SparkSession.builder.appName(\"MiApp\").getOrCreate()\n",
    "sc = spark.sparkContext"
   ]
  },
  {
   "cell_type": "code",
   "execution_count": null,
   "id": "0062cf12",
   "metadata": {},
   "outputs": [],
   "source": []
  },
  {
   "cell_type": "markdown",
   "id": "8d9645ea",
   "metadata": {},
   "source": [
    "1. Mostrar cuántos registros hay en cada tabla (hechos, vehículos, fallecidos, \n",
    "lesionados). Muestre algunos resultados con la función .show(). Genere un describe y \n",
    "summary para aquellas columnas que considere importantes según cada archivo.\n"
   ]
  },
  {
   "cell_type": "code",
   "execution_count": null,
   "id": "697faeb7",
   "metadata": {},
   "outputs": [],
   "source": []
  },
  {
   "cell_type": "markdown",
   "id": "b5b2b79d",
   "metadata": {},
   "source": [
    "2. Identificar los años disponibles en cada tabla y validar si coinciden. "
   ]
  },
  {
   "cell_type": "code",
   "execution_count": null,
   "id": "d4e1dce7",
   "metadata": {},
   "outputs": [],
   "source": []
  },
  {
   "cell_type": "markdown",
   "id": "4df3103a",
   "metadata": {},
   "source": [
    "3.  Mostrar los valores distintos de tipo de accidente."
   ]
  },
  {
   "cell_type": "code",
   "execution_count": null,
   "id": "c7e0b74a",
   "metadata": {},
   "outputs": [],
   "source": []
  },
  {
   "cell_type": "markdown",
   "id": "7c0ad84c",
   "metadata": {},
   "source": [
    "4.  Calcular cuántos departamentos únicos aparecen en las bases. "
   ]
  },
  {
   "cell_type": "code",
   "execution_count": null,
   "id": "4219747e",
   "metadata": {},
   "outputs": [],
   "source": []
  },
  {
   "cell_type": "markdown",
   "id": "cd35ba98",
   "metadata": {},
   "source": [
    "5. ¿Cuál es el total de accidentes por año y departamento? Apóyese de la función \n",
    "groupBy. Investigue la función display que tiene Databricks y muestre su resultado en \n",
    "formato de gráfico de barras. "
   ]
  },
  {
   "cell_type": "code",
   "execution_count": null,
   "id": "5e6fa561",
   "metadata": {},
   "outputs": [],
   "source": []
  },
  {
   "cell_type": "markdown",
   "id": "07f05e63",
   "metadata": {},
   "source": [
    "6. ¿Qué día de la semana registra más accidentes en 2024? Graficar con display en un \n",
    "gráfico de columnas. "
   ]
  },
  {
   "cell_type": "code",
   "execution_count": null,
   "id": "acc99713",
   "metadata": {},
   "outputs": [],
   "source": []
  },
  {
   "cell_type": "markdown",
   "id": "2f919dd5",
   "metadata": {},
   "source": [
    "7. Mostrar la distribución de accidentes por hora del día en el municipio de \n",
    "Guatemala. Graficar en un histograma. "
   ]
  },
  {
   "cell_type": "code",
   "execution_count": null,
   "id": "0ef577da",
   "metadata": {},
   "outputs": [],
   "source": []
  }
 ],
 "metadata": {
  "kernelspec": {
   "display_name": "Python 3 (ipykernel)",
   "language": "python",
   "name": "python3"
  },
  "language_info": {
   "codemirror_mode": {
    "name": "ipython",
    "version": 3
   },
   "file_extension": ".py",
   "mimetype": "text/x-python",
   "name": "python",
   "nbconvert_exporter": "python",
   "pygments_lexer": "ipython3",
   "version": "3.11.13"
  }
 },
 "nbformat": 4,
 "nbformat_minor": 5
}
