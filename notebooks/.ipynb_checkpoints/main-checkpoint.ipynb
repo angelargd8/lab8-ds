{
 "cells": [
  {
   "cell_type": "markdown",
   "id": "7aaceafc",
   "metadata": {},
   "source": [
    "# Laboratorio 8 \n",
    "    - Francis Aguilar - 22243\n",
    "    - César López - 22535\n",
    "    - Angela García -22869 \n",
    "\n",
    "\n",
    "enlace al repositorio: https://github.com/angelargd8/lab8-ds\n"
   ]
  },
  {
   "cell_type": "code",
   "execution_count": null,
   "id": "044b6a8b",
   "metadata": {},
   "outputs": [],
   "source": [
    "from pyspark.sql import SparkSession\n",
    "\n",
    "# creacion de la aplicacion\n",
    "spark = SparkSession.getActiveSession() or SparkSession.builder.appName(\"MiApp\").getOrCreate()\n",
    "sc = spark.sparkContext"
   ]
  },
  {
   "cell_type": "code",
   "execution_count": null,
   "id": "0062cf12",
   "metadata": {},
   "outputs": [],
   "source": [
    "path = \"/opt/app/working_dir/constitution.txt\"\n",
    "\n",
    "rdd = spark.read.text(path).rdd.map(lambda r: r[\"value\"])"
   ]
  },
  {
   "cell_type": "markdown",
   "id": "8d9645ea",
   "metadata": {},
   "source": [
    "1. Mostrar cuántos registros hay en cada tabla (hechos, vehículos, fallecidos, \n",
    "lesionados). Muestre algunos resultados con la función .show(). Genere un describe y \n",
    "summary para aquellas columnas que considere importantes según cada archivo.\n"
   ]
  },
  {
   "cell_type": "code",
   "execution_count": null,
   "id": "697faeb7",
   "metadata": {},
   "outputs": [],
   "source": []
  },
  {
   "cell_type": "markdown",
   "id": "b5b2b79d",
   "metadata": {},
   "source": [
    "2. Identificar los años disponibles en cada tabla y validar si coinciden. "
   ]
  },
  {
   "cell_type": "code",
   "execution_count": null,
   "id": "d4e1dce7",
   "metadata": {},
   "outputs": [],
   "source": []
  },
  {
   "cell_type": "markdown",
   "id": "4df3103a",
   "metadata": {},
   "source": [
    "3.  Mostrar los valores distintos de tipo de accidente."
   ]
  },
  {
   "cell_type": "code",
   "execution_count": null,
   "id": "c7e0b74a",
   "metadata": {},
   "outputs": [],
   "source": []
  },
  {
   "cell_type": "markdown",
   "id": "7c0ad84c",
   "metadata": {},
   "source": [
    "4.  Calcular cuántos departamentos únicos aparecen en las bases. "
   ]
  },
  {
   "cell_type": "code",
   "execution_count": null,
   "id": "4219747e",
   "metadata": {},
   "outputs": [],
   "source": []
  },
  {
   "cell_type": "markdown",
   "id": "cd35ba98",
   "metadata": {},
   "source": [
    "5. ¿Cuál es el total de accidentes por año y departamento? Apóyese de la función \n",
    "groupBy. Investigue la función display que tiene Databricks y muestre su resultado en \n",
    "formato de gráfico de barras. "
   ]
  },
  {
   "cell_type": "code",
   "execution_count": null,
   "id": "5e6fa561",
   "metadata": {},
   "outputs": [],
   "source": []
  },
  {
   "cell_type": "markdown",
   "id": "07f05e63",
   "metadata": {},
   "source": [
    "6. ¿Qué día de la semana registra más accidentes en 2024? Graficar con display en un \n",
    "gráfico de columnas. "
   ]
  },
  {
   "cell_type": "code",
   "execution_count": null,
   "id": "acc99713",
   "metadata": {},
   "outputs": [],
   "source": []
  },
  {
   "cell_type": "markdown",
   "id": "2f919dd5",
   "metadata": {},
   "source": [
    "7. Mostrar la distribución de accidentes por hora del día en el municipio de \n",
    "Guatemala. Graficar en un histograma. "
   ]
  },
  {
   "cell_type": "code",
   "execution_count": null,
   "id": "0ef577da",
   "metadata": {},
   "outputs": [],
   "source": []
  }
 ],
 "metadata": {
  "kernelspec": {
   "display_name": "Python 3",
   "language": "python",
   "name": "python3"
  },
  "language_info": {
   "codemirror_mode": {
    "name": "ipython",
    "version": 3
   },
   "file_extension": ".py",
   "mimetype": "text/x-python",
   "name": "python",
   "nbconvert_exporter": "python",
   "pygments_lexer": "ipython3",
   "version": "3.12.8"
  }
 },
 "nbformat": 4,
 "nbformat_minor": 5
}
